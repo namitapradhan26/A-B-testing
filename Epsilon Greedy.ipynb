{
 "cells": [
  {
   "cell_type": "code",
   "execution_count": 12,
   "metadata": {},
   "outputs": [
    {
     "name": "stdout",
     "output_type": "stream",
     "text": [
      "optimal j: 2\n",
      "mean estimate: 0.21676300578034682\n",
      "mean estimate: 0.4928366762177648\n",
      "mean estimate: 0.7484148307361623\n",
      "total reward earned: 7211.0\n",
      "overall win rate: 0.7211\n",
      "num_times_explored: 1014\n",
      "num_times_exploited: 8986\n",
      "num times selected optimal bandit: 9305\n"
     ]
    },
    {
     "data": {
      "image/png": "[encoded data removed]",
      "text/plain": [
       "<Figure size 432x288 with 1 Axes>"
      ]
     },
     "metadata": {
      "needs_background": "light"
     },
     "output_type": "display_data"
    }
   ],
   "source": [
    "import matplotlib.pyplot as plt\n",
    "import numpy as np\n",
    "\n",
    "\n",
    "NUM_TRIALS = 10000\n",
    "EPS = 0.1\n",
    "BANDIT_PROBABILITIES = [0.2, 0.5, 0.75]\n",
    "\n",
    "\n",
    "class BanditArm:\n",
    "    def __init__(self, p):\n",
    "        # p: the win rate\n",
    "        self.p = p\n",
    "        self.p_estimate = 0.\n",
    "        self.N = 0. # num samples collected so far\n",
    "\n",
    "    def pull(self):\n",
    "        # draw a 1 with probability p\n",
    "        return np.random.random() < self.p\n",
    "\n",
    "    def update(self, x):\n",
    "        self.N += 1.\n",
    "        self.p_estimate = ((self.N - 1)*self.p_estimate + x) / self.N\n",
    "\n",
    "\n",
    "def choose_random_argmax(a):\n",
    "    idx = np.argwhere(np.amax(a) == a).flatten()\n",
    "    return np.random.choice(idx)\n",
    "\n",
    "\n",
    "def experiment():\n",
    "    bandits = [BanditArm(p) for p in BANDIT_PROBABILITIES]\n",
    "    \n",
    "    rewards = np.zeros(NUM_TRIALS)\n",
    "    num_times_explored = 0\n",
    "    num_times_exploited = 0\n",
    "    num_optimal = 0\n",
    "    optimal_j = np.argmax([b.p for b in bandits])\n",
    "    print(\"optimal j:\", optimal_j)\n",
    "\n",
    "    for i in range(NUM_TRIALS):\n",
    "\n",
    "    # use epsilon-greedy to select the next bandit\n",
    "        if np.random.random() < EPS:\n",
    "            num_times_explored += 1\n",
    "            j = np.random.randint(len(bandits))\n",
    "        else:\n",
    "            num_times_exploited += 1\n",
    "            j = choose_random_argmax([b.p_estimate for b in bandits])\n",
    "\n",
    "        if j == optimal_j:\n",
    "            num_optimal += 1\n",
    "\n",
    "    # pull the arm for the bandit with the largest sample\n",
    "        x = bandits[j].pull()\n",
    "\n",
    "    # update rewards log\n",
    "        rewards[i] = x\n",
    "\n",
    "    # update the distribution for the bandit whose arm we just pulled\n",
    "        bandits[j].update(x)\n",
    "\n",
    "    \n",
    "\n",
    "  # print mean estimates for each bandit\n",
    "    for b in bandits:\n",
    "        print(\"mean estimate:\", b.p_estimate)\n",
    "\n",
    "  # print total reward\n",
    "    print(\"total reward earned:\", rewards.sum())\n",
    "    print(\"overall win rate:\", rewards.sum() / NUM_TRIALS)\n",
    "    print(\"num_times_explored:\", num_times_explored)\n",
    "    print(\"num_times_exploited:\", num_times_exploited)\n",
    "    print(\"num times selected optimal bandit:\", num_optimal)\n",
    "\n",
    "  # plot the results\n",
    "    cumulative_rewards = np.cumsum(rewards)\n",
    "    win_rates = cumulative_rewards / (np.arange(NUM_TRIALS) + 1)\n",
    "    plt.plot(win_rates)\n",
    "    plt.plot(np.ones(NUM_TRIALS)*np.max(BANDIT_PROBABILITIES))\n",
    "    plt.show()\n",
    "\n",
    "if __name__ == \"__main__\":\n",
    "    experiment()"
   ]
  },
  {
   "cell_type": "code",
   "execution_count": null,
   "metadata": {},
   "outputs": [],
   "source": []
  }
 ],
 "metadata": {
  "kernelspec": {
   "display_name": "Python 3",
   "language": "python",
   "name": "python3"
  },
  "language_info": {
   "codemirror_mode": {
    "name": "ipython",
    "version": 3
   },
   "file_extension": ".py",
   "mimetype": "text/x-python",
   "name": "python",
   "nbconvert_exporter": "python",
   "pygments_lexer": "ipython3",
   "version": "3.7.3"
  }
 },
 "nbformat": 4,
 "nbformat_minor": 2
}
