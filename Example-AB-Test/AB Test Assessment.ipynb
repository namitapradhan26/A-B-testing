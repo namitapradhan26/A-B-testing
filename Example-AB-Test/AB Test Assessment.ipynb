{
 "cells": [
  {
   "cell_type": "code",
   "execution_count": 1,
   "id": "849b03dd",
   "metadata": {},
   "outputs": [],
   "source": [
    "import pandas as pd\n",
    "from scipy import stats\n",
    "import numpy as np"
   ]
  },
  {
   "cell_type": "code",
   "execution_count": 2,
   "id": "f24d8e96",
   "metadata": {},
   "outputs": [],
   "source": [
    "data = pd.read_csv(\"abc_test_data - ab_test_data.csv\")"
   ]
  },
  {
   "cell_type": "code",
   "execution_count": 3,
   "id": "51730f90",
   "metadata": {},
   "outputs": [
    {
     "data": {
      "text/html": [
       "<div>\n",
       "<style scoped>\n",
       "    .dataframe tbody tr th:only-of-type {\n",
       "        vertical-align: middle;\n",
       "    }\n",
       "\n",
       "    .dataframe tbody tr th {\n",
       "        vertical-align: top;\n",
       "    }\n",
       "\n",
       "    .dataframe thead th {\n",
       "        text-align: right;\n",
       "    }\n",
       "</style>\n",
       "<table border=\"1\" class=\"dataframe\">\n",
       "  <thead>\n",
       "    <tr style=\"text-align: right;\">\n",
       "      <th></th>\n",
       "      <th>DATE</th>\n",
       "      <th>userid</th>\n",
       "      <th>variant</th>\n",
       "      <th>Purchases</th>\n",
       "      <th>Total_purchased_amount</th>\n",
       "    </tr>\n",
       "  </thead>\n",
       "  <tbody>\n",
       "    <tr>\n",
       "      <th>0</th>\n",
       "      <td>2024/05/10</td>\n",
       "      <td>20295</td>\n",
       "      <td>2</td>\n",
       "      <td>21</td>\n",
       "      <td>4</td>\n",
       "    </tr>\n",
       "    <tr>\n",
       "      <th>1</th>\n",
       "      <td>2024/04/08</td>\n",
       "      <td>6428</td>\n",
       "      <td>2</td>\n",
       "      <td>6</td>\n",
       "      <td>0,6</td>\n",
       "    </tr>\n",
       "    <tr>\n",
       "      <th>2</th>\n",
       "      <td>2024/05/08</td>\n",
       "      <td>59675</td>\n",
       "      <td>2</td>\n",
       "      <td>129</td>\n",
       "      <td>24,4</td>\n",
       "    </tr>\n",
       "    <tr>\n",
       "      <th>3</th>\n",
       "      <td>2024/05/14</td>\n",
       "      <td>30994</td>\n",
       "      <td>2</td>\n",
       "      <td>2757</td>\n",
       "      <td>526,2</td>\n",
       "    </tr>\n",
       "    <tr>\n",
       "      <th>4</th>\n",
       "      <td>2024/05/14</td>\n",
       "      <td>55427</td>\n",
       "      <td>2</td>\n",
       "      <td>462</td>\n",
       "      <td>52,6</td>\n",
       "    </tr>\n",
       "    <tr>\n",
       "      <th>...</th>\n",
       "      <td>...</td>\n",
       "      <td>...</td>\n",
       "      <td>...</td>\n",
       "      <td>...</td>\n",
       "      <td>...</td>\n",
       "    </tr>\n",
       "    <tr>\n",
       "      <th>79994</th>\n",
       "      <td>2024/04/06</td>\n",
       "      <td>51879</td>\n",
       "      <td>3</td>\n",
       "      <td>588</td>\n",
       "      <td>23,7</td>\n",
       "    </tr>\n",
       "    <tr>\n",
       "      <th>79995</th>\n",
       "      <td>2024/05/07</td>\n",
       "      <td>6395</td>\n",
       "      <td>1</td>\n",
       "      <td>504</td>\n",
       "      <td>19,1</td>\n",
       "    </tr>\n",
       "    <tr>\n",
       "      <th>79996</th>\n",
       "      <td>2024/05/11</td>\n",
       "      <td>9887</td>\n",
       "      <td>1</td>\n",
       "      <td>30</td>\n",
       "      <td>5,7</td>\n",
       "    </tr>\n",
       "    <tr>\n",
       "      <th>79997</th>\n",
       "      <td>2024/05/11</td>\n",
       "      <td>55837</td>\n",
       "      <td>1</td>\n",
       "      <td>1605</td>\n",
       "      <td>124,5</td>\n",
       "    </tr>\n",
       "    <tr>\n",
       "      <th>79998</th>\n",
       "      <td>2024/04/29</td>\n",
       "      <td>34925</td>\n",
       "      <td>2</td>\n",
       "      <td>120</td>\n",
       "      <td>27,7</td>\n",
       "    </tr>\n",
       "  </tbody>\n",
       "</table>\n",
       "<p>79999 rows × 5 columns</p>\n",
       "</div>"
      ],
      "text/plain": [
       "             DATE  userid  variant  Purchases Total_purchased_amount\n",
       "0      2024/05/10   20295        2         21                      4\n",
       "1      2024/04/08    6428        2          6                    0,6\n",
       "2      2024/05/08   59675        2        129                   24,4\n",
       "3      2024/05/14   30994        2       2757                  526,2\n",
       "4      2024/05/14   55427        2        462                   52,6\n",
       "...           ...     ...      ...        ...                    ...\n",
       "79994  2024/04/06   51879        3        588                   23,7\n",
       "79995  2024/05/07    6395        1        504                   19,1\n",
       "79996  2024/05/11    9887        1         30                    5,7\n",
       "79997  2024/05/11   55837        1       1605                  124,5\n",
       "79998  2024/04/29   34925        2        120                   27,7\n",
       "\n",
       "[79999 rows x 5 columns]"
      ]
     },
     "execution_count": 3,
     "metadata": {},
     "output_type": "execute_result"
    }
   ],
   "source": [
    "data"
   ]
  },
  {
   "cell_type": "markdown",
   "id": "9a5d2eab",
   "metadata": {},
   "source": [
    "### Data Exploration, Cleaning and Outlier Detection and Removal"
   ]
  },
  {
   "cell_type": "markdown",
   "id": "5a287145",
   "metadata": {},
   "source": [
    "Looking at all the transactions made by a single user as an example below:"
   ]
  },
  {
   "cell_type": "code",
   "execution_count": 4,
   "id": "8f88103a",
   "metadata": {},
   "outputs": [
    {
     "data": {
      "text/html": [
       "<div>\n",
       "<style scoped>\n",
       "    .dataframe tbody tr th:only-of-type {\n",
       "        vertical-align: middle;\n",
       "    }\n",
       "\n",
       "    .dataframe tbody tr th {\n",
       "        vertical-align: top;\n",
       "    }\n",
       "\n",
       "    .dataframe thead th {\n",
       "        text-align: right;\n",
       "    }\n",
       "</style>\n",
       "<table border=\"1\" class=\"dataframe\">\n",
       "  <thead>\n",
       "    <tr style=\"text-align: right;\">\n",
       "      <th></th>\n",
       "      <th>DATE</th>\n",
       "      <th>userid</th>\n",
       "      <th>variant</th>\n",
       "      <th>Purchases</th>\n",
       "      <th>Total_purchased_amount</th>\n",
       "    </tr>\n",
       "  </thead>\n",
       "  <tbody>\n",
       "    <tr>\n",
       "      <th>61852</th>\n",
       "      <td>2024/04/25</td>\n",
       "      <td>34925</td>\n",
       "      <td>2</td>\n",
       "      <td>21</td>\n",
       "      <td>4,9</td>\n",
       "    </tr>\n",
       "    <tr>\n",
       "      <th>72338</th>\n",
       "      <td>2024/04/27</td>\n",
       "      <td>34925</td>\n",
       "      <td>2</td>\n",
       "      <td>297</td>\n",
       "      <td>68,4</td>\n",
       "    </tr>\n",
       "    <tr>\n",
       "      <th>79998</th>\n",
       "      <td>2024/04/29</td>\n",
       "      <td>34925</td>\n",
       "      <td>2</td>\n",
       "      <td>120</td>\n",
       "      <td>27,7</td>\n",
       "    </tr>\n",
       "    <tr>\n",
       "      <th>62848</th>\n",
       "      <td>2024/04/30</td>\n",
       "      <td>34925</td>\n",
       "      <td>2</td>\n",
       "      <td>129</td>\n",
       "      <td>29,8</td>\n",
       "    </tr>\n",
       "    <tr>\n",
       "      <th>78596</th>\n",
       "      <td>2024/05/04</td>\n",
       "      <td>34925</td>\n",
       "      <td>2</td>\n",
       "      <td>18</td>\n",
       "      <td>4,1</td>\n",
       "    </tr>\n",
       "    <tr>\n",
       "      <th>25209</th>\n",
       "      <td>2024/05/11</td>\n",
       "      <td>34925</td>\n",
       "      <td>2</td>\n",
       "      <td>57</td>\n",
       "      <td>6,5</td>\n",
       "    </tr>\n",
       "  </tbody>\n",
       "</table>\n",
       "</div>"
      ],
      "text/plain": [
       "             DATE  userid  variant  Purchases Total_purchased_amount\n",
       "61852  2024/04/25   34925        2         21                    4,9\n",
       "72338  2024/04/27   34925        2        297                   68,4\n",
       "79998  2024/04/29   34925        2        120                   27,7\n",
       "62848  2024/04/30   34925        2        129                   29,8\n",
       "78596  2024/05/04   34925        2         18                    4,1\n",
       "25209  2024/05/11   34925        2         57                    6,5"
      ]
     },
     "execution_count": 4,
     "metadata": {},
     "output_type": "execute_result"
    }
   ],
   "source": [
    "data[data.userid == 34925].sort_values(by='DATE', ascending=True)"
   ]
  },
  {
   "cell_type": "code",
   "execution_count": 5,
   "id": "1468f821",
   "metadata": {},
   "outputs": [
    {
     "data": {
      "text/plain": [
       "50397"
      ]
     },
     "execution_count": 5,
     "metadata": {},
     "output_type": "execute_result"
    }
   ],
   "source": [
    "data.userid.nunique()     # Unique number of users in the data"
   ]
  },
  {
   "cell_type": "code",
   "execution_count": 6,
   "id": "56f950a7",
   "metadata": {},
   "outputs": [],
   "source": [
    "data = data.sort_values(by='DATE', ascending=True)\n",
    "data = data.reset_index(drop=True)"
   ]
  },
  {
   "cell_type": "markdown",
   "id": "16d5a6be",
   "metadata": {},
   "source": [
    "I am assuming that the \"Total_purchased_amount\" column is in the South African format of writing currency values where commas are used instead of a decimal point. For ease of operations I am replacing the commas to decimal points."
   ]
  },
  {
   "cell_type": "code",
   "execution_count": 7,
   "id": "8ff83560",
   "metadata": {},
   "outputs": [],
   "source": [
    "data['Total_purchased_amount'] = data['Total_purchased_amount'].str.replace(',', '.')"
   ]
  },
  {
   "cell_type": "code",
   "execution_count": 8,
   "id": "aec447d1",
   "metadata": {},
   "outputs": [
    {
     "data": {
      "text/html": [
       "<div>\n",
       "<style scoped>\n",
       "    .dataframe tbody tr th:only-of-type {\n",
       "        vertical-align: middle;\n",
       "    }\n",
       "\n",
       "    .dataframe tbody tr th {\n",
       "        vertical-align: top;\n",
       "    }\n",
       "\n",
       "    .dataframe thead th {\n",
       "        text-align: right;\n",
       "    }\n",
       "</style>\n",
       "<table border=\"1\" class=\"dataframe\">\n",
       "  <thead>\n",
       "    <tr style=\"text-align: right;\">\n",
       "      <th></th>\n",
       "      <th>DATE</th>\n",
       "      <th>userid</th>\n",
       "      <th>variant</th>\n",
       "      <th>Purchases</th>\n",
       "      <th>Total_purchased_amount</th>\n",
       "    </tr>\n",
       "  </thead>\n",
       "  <tbody>\n",
       "    <tr>\n",
       "      <th>0</th>\n",
       "      <td>2024/04/05</td>\n",
       "      <td>26166</td>\n",
       "      <td>3</td>\n",
       "      <td>78</td>\n",
       "      <td>3.7</td>\n",
       "    </tr>\n",
       "    <tr>\n",
       "      <th>1</th>\n",
       "      <td>2024/04/05</td>\n",
       "      <td>41697</td>\n",
       "      <td>2</td>\n",
       "      <td>15</td>\n",
       "      <td>0.7</td>\n",
       "    </tr>\n",
       "    <tr>\n",
       "      <th>2</th>\n",
       "      <td>2024/04/05</td>\n",
       "      <td>29238</td>\n",
       "      <td>3</td>\n",
       "      <td>702</td>\n",
       "      <td>78.1</td>\n",
       "    </tr>\n",
       "    <tr>\n",
       "      <th>3</th>\n",
       "      <td>2024/04/05</td>\n",
       "      <td>6746</td>\n",
       "      <td>1</td>\n",
       "      <td>1083</td>\n",
       "      <td>25</td>\n",
       "    </tr>\n",
       "    <tr>\n",
       "      <th>4</th>\n",
       "      <td>2024/04/05</td>\n",
       "      <td>10710</td>\n",
       "      <td>1</td>\n",
       "      <td>30</td>\n",
       "      <td>86.6</td>\n",
       "    </tr>\n",
       "    <tr>\n",
       "      <th>...</th>\n",
       "      <td>...</td>\n",
       "      <td>...</td>\n",
       "      <td>...</td>\n",
       "      <td>...</td>\n",
       "      <td>...</td>\n",
       "    </tr>\n",
       "    <tr>\n",
       "      <th>79994</th>\n",
       "      <td>2024/05/16</td>\n",
       "      <td>46170</td>\n",
       "      <td>2</td>\n",
       "      <td>2418</td>\n",
       "      <td>455.3</td>\n",
       "    </tr>\n",
       "    <tr>\n",
       "      <th>79995</th>\n",
       "      <td>2024/05/16</td>\n",
       "      <td>52468</td>\n",
       "      <td>1</td>\n",
       "      <td>12</td>\n",
       "      <td>2.3</td>\n",
       "    </tr>\n",
       "    <tr>\n",
       "      <th>79996</th>\n",
       "      <td>2024/05/16</td>\n",
       "      <td>48191</td>\n",
       "      <td>1</td>\n",
       "      <td>15</td>\n",
       "      <td>3.4</td>\n",
       "    </tr>\n",
       "    <tr>\n",
       "      <th>79997</th>\n",
       "      <td>2024/05/17</td>\n",
       "      <td>5187</td>\n",
       "      <td>3</td>\n",
       "      <td>12</td>\n",
       "      <td>1.4</td>\n",
       "    </tr>\n",
       "    <tr>\n",
       "      <th>79998</th>\n",
       "      <td>2024/05/17</td>\n",
       "      <td>6075</td>\n",
       "      <td>3</td>\n",
       "      <td>2697</td>\n",
       "      <td>668.9</td>\n",
       "    </tr>\n",
       "  </tbody>\n",
       "</table>\n",
       "<p>79999 rows × 5 columns</p>\n",
       "</div>"
      ],
      "text/plain": [
       "             DATE  userid  variant  Purchases Total_purchased_amount\n",
       "0      2024/04/05   26166        3         78                    3.7\n",
       "1      2024/04/05   41697        2         15                    0.7\n",
       "2      2024/04/05   29238        3        702                   78.1\n",
       "3      2024/04/05    6746        1       1083                     25\n",
       "4      2024/04/05   10710        1         30                   86.6\n",
       "...           ...     ...      ...        ...                    ...\n",
       "79994  2024/05/16   46170        2       2418                  455.3\n",
       "79995  2024/05/16   52468        1         12                    2.3\n",
       "79996  2024/05/16   48191        1         15                    3.4\n",
       "79997  2024/05/17    5187        3         12                    1.4\n",
       "79998  2024/05/17    6075        3       2697                  668.9\n",
       "\n",
       "[79999 rows x 5 columns]"
      ]
     },
     "execution_count": 8,
     "metadata": {},
     "output_type": "execute_result"
    }
   ],
   "source": [
    "data"
   ]
  },
  {
   "cell_type": "markdown",
   "id": "1b240711",
   "metadata": {},
   "source": [
    "The duration of this ABC test was from April 5th, 2024 to May 17th, 2024"
   ]
  },
  {
   "cell_type": "code",
   "execution_count": 9,
   "id": "30a5f405",
   "metadata": {},
   "outputs": [
    {
     "data": {
      "text/plain": [
       "variant\n",
       "1    17868\n",
       "2    17169\n",
       "3    17244\n",
       "Name: userid, dtype: int64"
      ]
     },
     "execution_count": 9,
     "metadata": {},
     "output_type": "execute_result"
    }
   ],
   "source": [
    "dist = data.groupby(\"variant\")[\"userid\"].nunique()\n",
    "dist"
   ]
  },
  {
   "cell_type": "code",
   "execution_count": 10,
   "id": "06ad3452",
   "metadata": {},
   "outputs": [
    {
     "data": {
      "text/plain": [
       "variant\n",
       "1    34.176852\n",
       "2    32.839846\n",
       "3    32.983302\n",
       "Name: userid, dtype: float64"
      ]
     },
     "execution_count": 10,
     "metadata": {},
     "output_type": "execute_result"
    }
   ],
   "source": [
    "percentage = 100*(dist/dist.sum())\n",
    "percentage"
   ]
  },
  {
   "cell_type": "markdown",
   "id": "5ddbab99",
   "metadata": {},
   "source": [
    "It is approximately an equal split of user traffic of ~33% between all three variants"
   ]
  },
  {
   "cell_type": "markdown",
   "id": "6746b595",
   "metadata": {},
   "source": [
    "First, I would like to see if any users are accidentally randomized into more than one variants."
   ]
  },
  {
   "cell_type": "code",
   "execution_count": 11,
   "id": "3edd5bd9",
   "metadata": {},
   "outputs": [
    {
     "data": {
      "text/plain": [
       "1884"
      ]
     },
     "execution_count": 11,
     "metadata": {},
     "output_type": "execute_result"
    }
   ],
   "source": [
    "variant = data.groupby(\"userid\")[\"variant\"].nunique()\n",
    "dupes = variant[variant > 1]\n",
    "len(dupes)"
   ]
  },
  {
   "cell_type": "code",
   "execution_count": 12,
   "id": "d7e31525",
   "metadata": {},
   "outputs": [
    {
     "data": {
      "text/html": [
       "<div>\n",
       "<style scoped>\n",
       "    .dataframe tbody tr th:only-of-type {\n",
       "        vertical-align: middle;\n",
       "    }\n",
       "\n",
       "    .dataframe tbody tr th {\n",
       "        vertical-align: top;\n",
       "    }\n",
       "\n",
       "    .dataframe thead th {\n",
       "        text-align: right;\n",
       "    }\n",
       "</style>\n",
       "<table border=\"1\" class=\"dataframe\">\n",
       "  <thead>\n",
       "    <tr style=\"text-align: right;\">\n",
       "      <th></th>\n",
       "      <th>DATE</th>\n",
       "      <th>userid</th>\n",
       "      <th>variant</th>\n",
       "      <th>Purchases</th>\n",
       "      <th>Total_purchased_amount</th>\n",
       "    </tr>\n",
       "  </thead>\n",
       "  <tbody>\n",
       "    <tr>\n",
       "      <th>63084</th>\n",
       "      <td>2024/05/13</td>\n",
       "      <td>64737</td>\n",
       "      <td>3</td>\n",
       "      <td>111</td>\n",
       "      <td>21.2</td>\n",
       "    </tr>\n",
       "    <tr>\n",
       "      <th>65095</th>\n",
       "      <td>2024/05/13</td>\n",
       "      <td>64737</td>\n",
       "      <td>1</td>\n",
       "      <td>90</td>\n",
       "      <td>17.2</td>\n",
       "    </tr>\n",
       "  </tbody>\n",
       "</table>\n",
       "</div>"
      ],
      "text/plain": [
       "             DATE  userid  variant  Purchases Total_purchased_amount\n",
       "63084  2024/05/13   64737        3        111                   21.2\n",
       "65095  2024/05/13   64737        1         90                   17.2"
      ]
     },
     "execution_count": 12,
     "metadata": {},
     "output_type": "execute_result"
    }
   ],
   "source": [
    "data[data.userid == 64737]                 # User 64737 was randomized in variants 1 and 3"
   ]
  },
  {
   "cell_type": "markdown",
   "id": "50e1a0f3",
   "metadata": {},
   "source": [
    "I would remove these users who have seen more than one variant. This eliminates any kind of bias and only considers the outcome based on pure randomization of the traffic into the test."
   ]
  },
  {
   "cell_type": "code",
   "execution_count": 13,
   "id": "db9cfd7a",
   "metadata": {},
   "outputs": [],
   "source": [
    "userid_to_remove = variant[variant > 1].index\n",
    "filtered_data = data[~data[\"userid\"].isin(userid_to_remove)]"
   ]
  },
  {
   "cell_type": "code",
   "execution_count": 14,
   "id": "9363e734",
   "metadata": {},
   "outputs": [
    {
     "data": {
      "text/html": [
       "<div>\n",
       "<style scoped>\n",
       "    .dataframe tbody tr th:only-of-type {\n",
       "        vertical-align: middle;\n",
       "    }\n",
       "\n",
       "    .dataframe tbody tr th {\n",
       "        vertical-align: top;\n",
       "    }\n",
       "\n",
       "    .dataframe thead th {\n",
       "        text-align: right;\n",
       "    }\n",
       "</style>\n",
       "<table border=\"1\" class=\"dataframe\">\n",
       "  <thead>\n",
       "    <tr style=\"text-align: right;\">\n",
       "      <th></th>\n",
       "      <th>DATE</th>\n",
       "      <th>userid</th>\n",
       "      <th>variant</th>\n",
       "      <th>Purchases</th>\n",
       "      <th>Total_purchased_amount</th>\n",
       "    </tr>\n",
       "  </thead>\n",
       "  <tbody>\n",
       "    <tr>\n",
       "      <th>0</th>\n",
       "      <td>2024/04/05</td>\n",
       "      <td>26166</td>\n",
       "      <td>3</td>\n",
       "      <td>78</td>\n",
       "      <td>3.7</td>\n",
       "    </tr>\n",
       "    <tr>\n",
       "      <th>1</th>\n",
       "      <td>2024/04/05</td>\n",
       "      <td>41697</td>\n",
       "      <td>2</td>\n",
       "      <td>15</td>\n",
       "      <td>0.7</td>\n",
       "    </tr>\n",
       "    <tr>\n",
       "      <th>2</th>\n",
       "      <td>2024/04/05</td>\n",
       "      <td>29238</td>\n",
       "      <td>3</td>\n",
       "      <td>702</td>\n",
       "      <td>78.1</td>\n",
       "    </tr>\n",
       "    <tr>\n",
       "      <th>3</th>\n",
       "      <td>2024/04/05</td>\n",
       "      <td>6746</td>\n",
       "      <td>1</td>\n",
       "      <td>1083</td>\n",
       "      <td>25</td>\n",
       "    </tr>\n",
       "    <tr>\n",
       "      <th>4</th>\n",
       "      <td>2024/04/05</td>\n",
       "      <td>10710</td>\n",
       "      <td>1</td>\n",
       "      <td>30</td>\n",
       "      <td>86.6</td>\n",
       "    </tr>\n",
       "    <tr>\n",
       "      <th>...</th>\n",
       "      <td>...</td>\n",
       "      <td>...</td>\n",
       "      <td>...</td>\n",
       "      <td>...</td>\n",
       "      <td>...</td>\n",
       "    </tr>\n",
       "    <tr>\n",
       "      <th>74363</th>\n",
       "      <td>2024/05/16</td>\n",
       "      <td>46170</td>\n",
       "      <td>2</td>\n",
       "      <td>2418</td>\n",
       "      <td>455.3</td>\n",
       "    </tr>\n",
       "    <tr>\n",
       "      <th>74364</th>\n",
       "      <td>2024/05/16</td>\n",
       "      <td>52468</td>\n",
       "      <td>1</td>\n",
       "      <td>12</td>\n",
       "      <td>2.3</td>\n",
       "    </tr>\n",
       "    <tr>\n",
       "      <th>74365</th>\n",
       "      <td>2024/05/16</td>\n",
       "      <td>48191</td>\n",
       "      <td>1</td>\n",
       "      <td>15</td>\n",
       "      <td>3.4</td>\n",
       "    </tr>\n",
       "    <tr>\n",
       "      <th>74366</th>\n",
       "      <td>2024/05/17</td>\n",
       "      <td>5187</td>\n",
       "      <td>3</td>\n",
       "      <td>12</td>\n",
       "      <td>1.4</td>\n",
       "    </tr>\n",
       "    <tr>\n",
       "      <th>74367</th>\n",
       "      <td>2024/05/17</td>\n",
       "      <td>6075</td>\n",
       "      <td>3</td>\n",
       "      <td>2697</td>\n",
       "      <td>668.9</td>\n",
       "    </tr>\n",
       "  </tbody>\n",
       "</table>\n",
       "<p>74368 rows × 5 columns</p>\n",
       "</div>"
      ],
      "text/plain": [
       "             DATE  userid  variant  Purchases Total_purchased_amount\n",
       "0      2024/04/05   26166        3         78                    3.7\n",
       "1      2024/04/05   41697        2         15                    0.7\n",
       "2      2024/04/05   29238        3        702                   78.1\n",
       "3      2024/04/05    6746        1       1083                     25\n",
       "4      2024/04/05   10710        1         30                   86.6\n",
       "...           ...     ...      ...        ...                    ...\n",
       "74363  2024/05/16   46170        2       2418                  455.3\n",
       "74364  2024/05/16   52468        1         12                    2.3\n",
       "74365  2024/05/16   48191        1         15                    3.4\n",
       "74366  2024/05/17    5187        3         12                    1.4\n",
       "74367  2024/05/17    6075        3       2697                  668.9\n",
       "\n",
       "[74368 rows x 5 columns]"
      ]
     },
     "execution_count": 14,
     "metadata": {},
     "output_type": "execute_result"
    }
   ],
   "source": [
    "filtered_data = filtered_data.reset_index(drop=True)\n",
    "filtered_data"
   ]
  },
  {
   "cell_type": "markdown",
   "id": "1cbe3697",
   "metadata": {},
   "source": [
    "To make sure that the correct number of users are excluded from the original data:"
   ]
  },
  {
   "cell_type": "code",
   "execution_count": 15,
   "id": "6d9c407e",
   "metadata": {},
   "outputs": [
    {
     "data": {
      "text/plain": [
       "48513"
      ]
     },
     "execution_count": 15,
     "metadata": {},
     "output_type": "execute_result"
    }
   ],
   "source": [
    "filtered_data.userid.nunique()"
   ]
  },
  {
   "cell_type": "code",
   "execution_count": 16,
   "id": "165202cf",
   "metadata": {},
   "outputs": [
    {
     "data": {
      "text/plain": [
       "48513"
      ]
     },
     "execution_count": 16,
     "metadata": {},
     "output_type": "execute_result"
    }
   ],
   "source": [
    "data.userid.nunique() - len(dupes)"
   ]
  },
  {
   "cell_type": "markdown",
   "id": "07bc0eb6",
   "metadata": {},
   "source": [
    "Secondly, I would like to check if each row in the transactions is unique by date and userid as well. If not, I will sum the purchases and the purchase amounts to make this dataframe's primary keys - date, userid and variant"
   ]
  },
  {
   "cell_type": "code",
   "execution_count": 17,
   "id": "f9603e13",
   "metadata": {},
   "outputs": [
    {
     "data": {
      "text/plain": [
       "DATE        userid  variant\n",
       "2024/04/06  33320   3          2\n",
       "2024/04/07  17004   3          2\n",
       "2024/04/20  6421    1          2\n",
       "2024/04/22  56981   1          2\n",
       "2024/04/23  44746   3          2\n",
       "                              ..\n",
       "2024/05/16  49883   3          2\n",
       "            52327   2          2\n",
       "            61708   1          2\n",
       "            62277   1          2\n",
       "            64619   3          2\n",
       "Name: Purchases, Length: 309, dtype: int64"
      ]
     },
     "execution_count": 17,
     "metadata": {},
     "output_type": "execute_result"
    }
   ],
   "source": [
    "uni = filtered_data.groupby([\"DATE\",\"userid\",\"variant\"])[\"Purchases\"].count()\n",
    "uni[uni > 1]"
   ]
  },
  {
   "cell_type": "code",
   "execution_count": 18,
   "id": "e3d53e0e",
   "metadata": {},
   "outputs": [],
   "source": [
    "filtered_data['Total_purchased_amount'] = filtered_data['Total_purchased_amount'].astype(float)"
   ]
  },
  {
   "cell_type": "code",
   "execution_count": 19,
   "id": "1a0552ed",
   "metadata": {},
   "outputs": [],
   "source": [
    "new_data = filtered_data.groupby([\"DATE\",\"userid\",\"variant\"])[[\"Purchases\",\"Total_purchased_amount\"]].sum().reset_index()"
   ]
  },
  {
   "cell_type": "code",
   "execution_count": 20,
   "id": "2dfd8943",
   "metadata": {},
   "outputs": [
    {
     "data": {
      "text/html": [
       "<div>\n",
       "<style scoped>\n",
       "    .dataframe tbody tr th:only-of-type {\n",
       "        vertical-align: middle;\n",
       "    }\n",
       "\n",
       "    .dataframe tbody tr th {\n",
       "        vertical-align: top;\n",
       "    }\n",
       "\n",
       "    .dataframe thead th {\n",
       "        text-align: right;\n",
       "    }\n",
       "</style>\n",
       "<table border=\"1\" class=\"dataframe\">\n",
       "  <thead>\n",
       "    <tr style=\"text-align: right;\">\n",
       "      <th></th>\n",
       "      <th>DATE</th>\n",
       "      <th>userid</th>\n",
       "      <th>variant</th>\n",
       "      <th>Purchases</th>\n",
       "      <th>Total_purchased_amount</th>\n",
       "    </tr>\n",
       "  </thead>\n",
       "  <tbody>\n",
       "    <tr>\n",
       "      <th>0</th>\n",
       "      <td>2024/04/05</td>\n",
       "      <td>69</td>\n",
       "      <td>1</td>\n",
       "      <td>42</td>\n",
       "      <td>4.9</td>\n",
       "    </tr>\n",
       "    <tr>\n",
       "      <th>1</th>\n",
       "      <td>2024/04/05</td>\n",
       "      <td>88</td>\n",
       "      <td>3</td>\n",
       "      <td>1377</td>\n",
       "      <td>181.5</td>\n",
       "    </tr>\n",
       "    <tr>\n",
       "      <th>2</th>\n",
       "      <td>2024/04/05</td>\n",
       "      <td>98</td>\n",
       "      <td>3</td>\n",
       "      <td>1368</td>\n",
       "      <td>54.3</td>\n",
       "    </tr>\n",
       "    <tr>\n",
       "      <th>3</th>\n",
       "      <td>2024/04/05</td>\n",
       "      <td>144</td>\n",
       "      <td>1</td>\n",
       "      <td>1539</td>\n",
       "      <td>36.7</td>\n",
       "    </tr>\n",
       "    <tr>\n",
       "      <th>4</th>\n",
       "      <td>2024/04/05</td>\n",
       "      <td>183</td>\n",
       "      <td>2</td>\n",
       "      <td>2253</td>\n",
       "      <td>260.0</td>\n",
       "    </tr>\n",
       "    <tr>\n",
       "      <th>...</th>\n",
       "      <td>...</td>\n",
       "      <td>...</td>\n",
       "      <td>...</td>\n",
       "      <td>...</td>\n",
       "      <td>...</td>\n",
       "    </tr>\n",
       "    <tr>\n",
       "      <th>74054</th>\n",
       "      <td>2024/05/16</td>\n",
       "      <td>64691</td>\n",
       "      <td>1</td>\n",
       "      <td>168</td>\n",
       "      <td>6.4</td>\n",
       "    </tr>\n",
       "    <tr>\n",
       "      <th>74055</th>\n",
       "      <td>2024/05/16</td>\n",
       "      <td>64719</td>\n",
       "      <td>2</td>\n",
       "      <td>51</td>\n",
       "      <td>2.0</td>\n",
       "    </tr>\n",
       "    <tr>\n",
       "      <th>74056</th>\n",
       "      <td>2024/05/16</td>\n",
       "      <td>64753</td>\n",
       "      <td>2</td>\n",
       "      <td>1026</td>\n",
       "      <td>38.7</td>\n",
       "    </tr>\n",
       "    <tr>\n",
       "      <th>74057</th>\n",
       "      <td>2024/05/17</td>\n",
       "      <td>5187</td>\n",
       "      <td>3</td>\n",
       "      <td>12</td>\n",
       "      <td>1.4</td>\n",
       "    </tr>\n",
       "    <tr>\n",
       "      <th>74058</th>\n",
       "      <td>2024/05/17</td>\n",
       "      <td>6075</td>\n",
       "      <td>3</td>\n",
       "      <td>2697</td>\n",
       "      <td>668.9</td>\n",
       "    </tr>\n",
       "  </tbody>\n",
       "</table>\n",
       "<p>74059 rows × 5 columns</p>\n",
       "</div>"
      ],
      "text/plain": [
       "             DATE  userid  variant  Purchases  Total_purchased_amount\n",
       "0      2024/04/05      69        1         42                     4.9\n",
       "1      2024/04/05      88        3       1377                   181.5\n",
       "2      2024/04/05      98        3       1368                    54.3\n",
       "3      2024/04/05     144        1       1539                    36.7\n",
       "4      2024/04/05     183        2       2253                   260.0\n",
       "...           ...     ...      ...        ...                     ...\n",
       "74054  2024/05/16   64691        1        168                     6.4\n",
       "74055  2024/05/16   64719        2         51                     2.0\n",
       "74056  2024/05/16   64753        2       1026                    38.7\n",
       "74057  2024/05/17    5187        3         12                     1.4\n",
       "74058  2024/05/17    6075        3       2697                   668.9\n",
       "\n",
       "[74059 rows x 5 columns]"
      ]
     },
     "execution_count": 20,
     "metadata": {},
     "output_type": "execute_result"
    }
   ],
   "source": [
    "new_data"
   ]
  },
  {
   "cell_type": "code",
   "execution_count": 21,
   "id": "3c14700f",
   "metadata": {},
   "outputs": [
    {
     "data": {
      "text/plain": [
       "48513"
      ]
     },
     "execution_count": 21,
     "metadata": {},
     "output_type": "execute_result"
    }
   ],
   "source": [
    "new_data.userid.nunique()    # The users remain the same but now all the rows in the dataframe are unique"
   ]
  },
  {
   "cell_type": "code",
   "execution_count": 22,
   "id": "db9d63b4",
   "metadata": {},
   "outputs": [
    {
     "data": {
      "text/plain": [
       "Series([], Name: Purchases, dtype: int64)"
      ]
     },
     "execution_count": 22,
     "metadata": {},
     "output_type": "execute_result"
    }
   ],
   "source": [
    "check = new_data.groupby([\"DATE\",\"userid\",\"variant\"])[\"Purchases\"].count()\n",
    "check[check > 1]"
   ]
  },
  {
   "cell_type": "markdown",
   "id": "7def55e9",
   "metadata": {},
   "source": [
    "Now, I would like to check if there are any outliers that might skew the results in a direction. I will look at both, purchases and the purchased amounts to find outliers."
   ]
  },
  {
   "cell_type": "code",
   "execution_count": 23,
   "id": "5749144d",
   "metadata": {},
   "outputs": [
    {
     "data": {
      "text/plain": [
       "<AxesSubplot:>"
      ]
     },
     "execution_count": 23,
     "metadata": {},
     "output_type": "execute_result"
    },
    {
     "data": {
      "image/png": "[encoded data removed]",
      "text/plain": [
       "<Figure size 432x288 with 1 Axes>"
      ]
     },
     "metadata": {
      "needs_background": "light"
     },
     "output_type": "display_data"
    }
   ],
   "source": [
    "new_data.boxplot(column='Purchases')"
   ]
  },
  {
   "cell_type": "code",
   "execution_count": 24,
   "id": "3cc603e9",
   "metadata": {},
   "outputs": [
    {
     "data": {
      "text/plain": [
       "<AxesSubplot:>"
      ]
     },
     "execution_count": 24,
     "metadata": {},
     "output_type": "execute_result"
    },
    {
     "data": {
      "image/png": "[encoded data removed]",
      "text/plain": [
       "<Figure size 432x288 with 1 Axes>"
      ]
     },
     "metadata": {
      "needs_background": "light"
     },
     "output_type": "display_data"
    }
   ],
   "source": [
    "new_data.boxplot(column='Total_purchased_amount')"
   ]
  },
  {
   "cell_type": "code",
   "execution_count": 25,
   "id": "ad1681d8",
   "metadata": {},
   "outputs": [
    {
     "data": {
      "text/html": [
       "<div>\n",
       "<style scoped>\n",
       "    .dataframe tbody tr th:only-of-type {\n",
       "        vertical-align: middle;\n",
       "    }\n",
       "\n",
       "    .dataframe tbody tr th {\n",
       "        vertical-align: top;\n",
       "    }\n",
       "\n",
       "    .dataframe thead th {\n",
       "        text-align: right;\n",
       "    }\n",
       "</style>\n",
       "<table border=\"1\" class=\"dataframe\">\n",
       "  <thead>\n",
       "    <tr style=\"text-align: right;\">\n",
       "      <th></th>\n",
       "      <th>DATE</th>\n",
       "      <th>userid</th>\n",
       "      <th>variant</th>\n",
       "      <th>Purchases</th>\n",
       "      <th>Total_purchased_amount</th>\n",
       "    </tr>\n",
       "  </thead>\n",
       "  <tbody>\n",
       "    <tr>\n",
       "      <th>50593</th>\n",
       "      <td>2024/05/11</td>\n",
       "      <td>4900</td>\n",
       "      <td>1</td>\n",
       "      <td>15531</td>\n",
       "      <td>586.8</td>\n",
       "    </tr>\n",
       "    <tr>\n",
       "      <th>21023</th>\n",
       "      <td>2024/04/28</td>\n",
       "      <td>21739</td>\n",
       "      <td>2</td>\n",
       "      <td>15189</td>\n",
       "      <td>715.0</td>\n",
       "    </tr>\n",
       "    <tr>\n",
       "      <th>45134</th>\n",
       "      <td>2024/05/10</td>\n",
       "      <td>4900</td>\n",
       "      <td>1</td>\n",
       "      <td>19887</td>\n",
       "      <td>781.5</td>\n",
       "    </tr>\n",
       "    <tr>\n",
       "      <th>5641</th>\n",
       "      <td>2024/04/08</td>\n",
       "      <td>53222</td>\n",
       "      <td>1</td>\n",
       "      <td>22611</td>\n",
       "      <td>912.9</td>\n",
       "    </tr>\n",
       "    <tr>\n",
       "      <th>71559</th>\n",
       "      <td>2024/05/16</td>\n",
       "      <td>20270</td>\n",
       "      <td>1</td>\n",
       "      <td>17016</td>\n",
       "      <td>1024.9</td>\n",
       "    </tr>\n",
       "    <tr>\n",
       "      <th>71984</th>\n",
       "      <td>2024/05/16</td>\n",
       "      <td>27581</td>\n",
       "      <td>1</td>\n",
       "      <td>16080</td>\n",
       "      <td>1206.2</td>\n",
       "    </tr>\n",
       "    <tr>\n",
       "      <th>51894</th>\n",
       "      <td>2024/05/11</td>\n",
       "      <td>21932</td>\n",
       "      <td>3</td>\n",
       "      <td>18975</td>\n",
       "      <td>3584.2</td>\n",
       "    </tr>\n",
       "    <tr>\n",
       "      <th>18094</th>\n",
       "      <td>2024/04/23</td>\n",
       "      <td>2334</td>\n",
       "      <td>2</td>\n",
       "      <td>18660</td>\n",
       "      <td>6482.9</td>\n",
       "    </tr>\n",
       "    <tr>\n",
       "      <th>18785</th>\n",
       "      <td>2024/04/24</td>\n",
       "      <td>2334</td>\n",
       "      <td>2</td>\n",
       "      <td>22779</td>\n",
       "      <td>7892.8</td>\n",
       "    </tr>\n",
       "    <tr>\n",
       "      <th>53118</th>\n",
       "      <td>2024/05/11</td>\n",
       "      <td>39195</td>\n",
       "      <td>2</td>\n",
       "      <td>16125</td>\n",
       "      <td>14980.8</td>\n",
       "    </tr>\n",
       "    <tr>\n",
       "      <th>23594</th>\n",
       "      <td>2024/05/05</td>\n",
       "      <td>6745</td>\n",
       "      <td>2</td>\n",
       "      <td>9666</td>\n",
       "      <td>22718.1</td>\n",
       "    </tr>\n",
       "    <tr>\n",
       "      <th>7581</th>\n",
       "      <td>2024/04/10</td>\n",
       "      <td>34148</td>\n",
       "      <td>1</td>\n",
       "      <td>7569</td>\n",
       "      <td>28814.9</td>\n",
       "    </tr>\n",
       "    <tr>\n",
       "      <th>13806</th>\n",
       "      <td>2024/04/18</td>\n",
       "      <td>64283</td>\n",
       "      <td>2</td>\n",
       "      <td>7341</td>\n",
       "      <td>31683.9</td>\n",
       "    </tr>\n",
       "    <tr>\n",
       "      <th>8479</th>\n",
       "      <td>2024/04/11</td>\n",
       "      <td>34148</td>\n",
       "      <td>1</td>\n",
       "      <td>9255</td>\n",
       "      <td>38104.1</td>\n",
       "    </tr>\n",
       "    <tr>\n",
       "      <th>20320</th>\n",
       "      <td>2024/04/27</td>\n",
       "      <td>6745</td>\n",
       "      <td>2</td>\n",
       "      <td>11556</td>\n",
       "      <td>48792.1</td>\n",
       "    </tr>\n",
       "  </tbody>\n",
       "</table>\n",
       "</div>"
      ],
      "text/plain": [
       "             DATE  userid  variant  Purchases  Total_purchased_amount\n",
       "50593  2024/05/11    4900        1      15531                   586.8\n",
       "21023  2024/04/28   21739        2      15189                   715.0\n",
       "45134  2024/05/10    4900        1      19887                   781.5\n",
       "5641   2024/04/08   53222        1      22611                   912.9\n",
       "71559  2024/05/16   20270        1      17016                  1024.9\n",
       "71984  2024/05/16   27581        1      16080                  1206.2\n",
       "51894  2024/05/11   21932        3      18975                  3584.2\n",
       "18094  2024/04/23    2334        2      18660                  6482.9\n",
       "18785  2024/04/24    2334        2      22779                  7892.8\n",
       "53118  2024/05/11   39195        2      16125                 14980.8\n",
       "23594  2024/05/05    6745        2       9666                 22718.1\n",
       "7581   2024/04/10   34148        1       7569                 28814.9\n",
       "13806  2024/04/18   64283        2       7341                 31683.9\n",
       "8479   2024/04/11   34148        1       9255                 38104.1\n",
       "20320  2024/04/27    6745        2      11556                 48792.1"
      ]
     },
     "execution_count": 25,
     "metadata": {},
     "output_type": "execute_result"
    }
   ],
   "source": [
    "new_data[(new_data.Purchases >= 15000) | (new_data.Total_purchased_amount >= 20000)].sort_values(by='Total_purchased_amount', ascending=True)"
   ]
  },
  {
   "cell_type": "markdown",
   "id": "e6a6edfd",
   "metadata": {},
   "source": [
    "I would like to eliminate these high spending purchases to avoid skewing of the decision."
   ]
  },
  {
   "cell_type": "code",
   "execution_count": 26,
   "id": "9e17bdd3",
   "metadata": {},
   "outputs": [
    {
     "data": {
      "text/html": [
       "<div>\n",
       "<style scoped>\n",
       "    .dataframe tbody tr th:only-of-type {\n",
       "        vertical-align: middle;\n",
       "    }\n",
       "\n",
       "    .dataframe tbody tr th {\n",
       "        vertical-align: top;\n",
       "    }\n",
       "\n",
       "    .dataframe thead th {\n",
       "        text-align: right;\n",
       "    }\n",
       "</style>\n",
       "<table border=\"1\" class=\"dataframe\">\n",
       "  <thead>\n",
       "    <tr style=\"text-align: right;\">\n",
       "      <th></th>\n",
       "      <th>DATE</th>\n",
       "      <th>userid</th>\n",
       "      <th>variant</th>\n",
       "      <th>Purchases</th>\n",
       "      <th>Total_purchased_amount</th>\n",
       "    </tr>\n",
       "  </thead>\n",
       "  <tbody>\n",
       "    <tr>\n",
       "      <th>0</th>\n",
       "      <td>2024/04/05</td>\n",
       "      <td>69</td>\n",
       "      <td>1</td>\n",
       "      <td>42</td>\n",
       "      <td>4.9</td>\n",
       "    </tr>\n",
       "    <tr>\n",
       "      <th>1</th>\n",
       "      <td>2024/04/05</td>\n",
       "      <td>88</td>\n",
       "      <td>3</td>\n",
       "      <td>1377</td>\n",
       "      <td>181.5</td>\n",
       "    </tr>\n",
       "    <tr>\n",
       "      <th>2</th>\n",
       "      <td>2024/04/05</td>\n",
       "      <td>98</td>\n",
       "      <td>3</td>\n",
       "      <td>1368</td>\n",
       "      <td>54.3</td>\n",
       "    </tr>\n",
       "    <tr>\n",
       "      <th>3</th>\n",
       "      <td>2024/04/05</td>\n",
       "      <td>144</td>\n",
       "      <td>1</td>\n",
       "      <td>1539</td>\n",
       "      <td>36.7</td>\n",
       "    </tr>\n",
       "    <tr>\n",
       "      <th>4</th>\n",
       "      <td>2024/04/05</td>\n",
       "      <td>183</td>\n",
       "      <td>2</td>\n",
       "      <td>2253</td>\n",
       "      <td>260.0</td>\n",
       "    </tr>\n",
       "    <tr>\n",
       "      <th>...</th>\n",
       "      <td>...</td>\n",
       "      <td>...</td>\n",
       "      <td>...</td>\n",
       "      <td>...</td>\n",
       "      <td>...</td>\n",
       "    </tr>\n",
       "    <tr>\n",
       "      <th>74039</th>\n",
       "      <td>2024/05/16</td>\n",
       "      <td>64691</td>\n",
       "      <td>1</td>\n",
       "      <td>168</td>\n",
       "      <td>6.4</td>\n",
       "    </tr>\n",
       "    <tr>\n",
       "      <th>74040</th>\n",
       "      <td>2024/05/16</td>\n",
       "      <td>64719</td>\n",
       "      <td>2</td>\n",
       "      <td>51</td>\n",
       "      <td>2.0</td>\n",
       "    </tr>\n",
       "    <tr>\n",
       "      <th>74041</th>\n",
       "      <td>2024/05/16</td>\n",
       "      <td>64753</td>\n",
       "      <td>2</td>\n",
       "      <td>1026</td>\n",
       "      <td>38.7</td>\n",
       "    </tr>\n",
       "    <tr>\n",
       "      <th>74042</th>\n",
       "      <td>2024/05/17</td>\n",
       "      <td>5187</td>\n",
       "      <td>3</td>\n",
       "      <td>12</td>\n",
       "      <td>1.4</td>\n",
       "    </tr>\n",
       "    <tr>\n",
       "      <th>74043</th>\n",
       "      <td>2024/05/17</td>\n",
       "      <td>6075</td>\n",
       "      <td>3</td>\n",
       "      <td>2697</td>\n",
       "      <td>668.9</td>\n",
       "    </tr>\n",
       "  </tbody>\n",
       "</table>\n",
       "<p>74044 rows × 5 columns</p>\n",
       "</div>"
      ],
      "text/plain": [
       "             DATE  userid  variant  Purchases  Total_purchased_amount\n",
       "0      2024/04/05      69        1         42                     4.9\n",
       "1      2024/04/05      88        3       1377                   181.5\n",
       "2      2024/04/05      98        3       1368                    54.3\n",
       "3      2024/04/05     144        1       1539                    36.7\n",
       "4      2024/04/05     183        2       2253                   260.0\n",
       "...           ...     ...      ...        ...                     ...\n",
       "74039  2024/05/16   64691        1        168                     6.4\n",
       "74040  2024/05/16   64719        2         51                     2.0\n",
       "74041  2024/05/16   64753        2       1026                    38.7\n",
       "74042  2024/05/17    5187        3         12                     1.4\n",
       "74043  2024/05/17    6075        3       2697                   668.9\n",
       "\n",
       "[74044 rows x 5 columns]"
      ]
     },
     "execution_count": 26,
     "metadata": {},
     "output_type": "execute_result"
    }
   ],
   "source": [
    "final_data = new_data[(new_data.Purchases < 15000) & (new_data.Total_purchased_amount < 20000)]\n",
    "final_data = final_data.reset_index(drop=True)\n",
    "final_data"
   ]
  },
  {
   "cell_type": "markdown",
   "id": "2f269d9f",
   "metadata": {},
   "source": [
    "Making sure the traffic split in the three variants is still ~33%."
   ]
  },
  {
   "cell_type": "code",
   "execution_count": 27,
   "id": "6e6a928e",
   "metadata": {},
   "outputs": [
    {
     "data": {
      "text/plain": [
       "variant\n",
       "1    16593\n",
       "2    15931\n",
       "3    15986\n",
       "Name: userid, dtype: int64"
      ]
     },
     "execution_count": 27,
     "metadata": {},
     "output_type": "execute_result"
    }
   ],
   "source": [
    "dist2 = final_data.groupby(\"variant\")[\"userid\"].nunique()\n",
    "dist2"
   ]
  },
  {
   "cell_type": "code",
   "execution_count": 28,
   "id": "2b41151f",
   "metadata": {},
   "outputs": [
    {
     "data": {
      "text/plain": [
       "variant\n",
       "1    34.205318\n",
       "2    32.840651\n",
       "3    32.954030\n",
       "Name: userid, dtype: float64"
      ]
     },
     "execution_count": 28,
     "metadata": {},
     "output_type": "execute_result"
    }
   ],
   "source": [
    "percentage2 = 100*(dist2/dist2.sum())\n",
    "percentage2"
   ]
  },
  {
   "cell_type": "code",
   "execution_count": 29,
   "id": "07e4c821",
   "metadata": {},
   "outputs": [
    {
     "data": {
      "text/plain": [
       "48510"
      ]
     },
     "execution_count": 29,
     "metadata": {},
     "output_type": "execute_result"
    }
   ],
   "source": [
    "final_data.userid.nunique()"
   ]
  },
  {
   "cell_type": "markdown",
   "id": "e9d02fdf",
   "metadata": {},
   "source": [
    "### Question 1 : Is there a significant difference in daily revenue generated by each version of the in-app purchase feature?"
   ]
  },
  {
   "cell_type": "markdown",
   "id": "8edc592b",
   "metadata": {},
   "source": [
    "First, I want to bring the dataframe down to daily revenue level"
   ]
  },
  {
   "cell_type": "code",
   "execution_count": 93,
   "id": "bb790e2c",
   "metadata": {},
   "outputs": [
    {
     "data": {
      "text/html": [
       "<div>\n",
       "<style scoped>\n",
       "    .dataframe tbody tr th:only-of-type {\n",
       "        vertical-align: middle;\n",
       "    }\n",
       "\n",
       "    .dataframe tbody tr th {\n",
       "        vertical-align: top;\n",
       "    }\n",
       "\n",
       "    .dataframe thead th {\n",
       "        text-align: right;\n",
       "    }\n",
       "</style>\n",
       "<table border=\"1\" class=\"dataframe\">\n",
       "  <thead>\n",
       "    <tr style=\"text-align: right;\">\n",
       "      <th></th>\n",
       "      <th>DATE</th>\n",
       "      <th>variant</th>\n",
       "      <th>Total_purchased_amount</th>\n",
       "    </tr>\n",
       "  </thead>\n",
       "  <tbody>\n",
       "    <tr>\n",
       "      <th>0</th>\n",
       "      <td>2024/04/05</td>\n",
       "      <td>1</td>\n",
       "      <td>51538.3</td>\n",
       "    </tr>\n",
       "    <tr>\n",
       "      <th>1</th>\n",
       "      <td>2024/04/05</td>\n",
       "      <td>2</td>\n",
       "      <td>49238.4</td>\n",
       "    </tr>\n",
       "    <tr>\n",
       "      <th>2</th>\n",
       "      <td>2024/04/05</td>\n",
       "      <td>3</td>\n",
       "      <td>47466.1</td>\n",
       "    </tr>\n",
       "    <tr>\n",
       "      <th>3</th>\n",
       "      <td>2024/04/06</td>\n",
       "      <td>1</td>\n",
       "      <td>79385.5</td>\n",
       "    </tr>\n",
       "    <tr>\n",
       "      <th>4</th>\n",
       "      <td>2024/04/06</td>\n",
       "      <td>2</td>\n",
       "      <td>59199.6</td>\n",
       "    </tr>\n",
       "    <tr>\n",
       "      <th>...</th>\n",
       "      <td>...</td>\n",
       "      <td>...</td>\n",
       "      <td>...</td>\n",
       "    </tr>\n",
       "    <tr>\n",
       "      <th>122</th>\n",
       "      <td>2024/05/15</td>\n",
       "      <td>3</td>\n",
       "      <td>67346.8</td>\n",
       "    </tr>\n",
       "    <tr>\n",
       "      <th>123</th>\n",
       "      <td>2024/05/16</td>\n",
       "      <td>1</td>\n",
       "      <td>55120.8</td>\n",
       "    </tr>\n",
       "    <tr>\n",
       "      <th>124</th>\n",
       "      <td>2024/05/16</td>\n",
       "      <td>2</td>\n",
       "      <td>60229.2</td>\n",
       "    </tr>\n",
       "    <tr>\n",
       "      <th>125</th>\n",
       "      <td>2024/05/16</td>\n",
       "      <td>3</td>\n",
       "      <td>61264.1</td>\n",
       "    </tr>\n",
       "    <tr>\n",
       "      <th>126</th>\n",
       "      <td>2024/05/17</td>\n",
       "      <td>3</td>\n",
       "      <td>670.3</td>\n",
       "    </tr>\n",
       "  </tbody>\n",
       "</table>\n",
       "<p>127 rows × 3 columns</p>\n",
       "</div>"
      ],
      "text/plain": [
       "           DATE  variant  Total_purchased_amount\n",
       "0    2024/04/05        1                 51538.3\n",
       "1    2024/04/05        2                 49238.4\n",
       "2    2024/04/05        3                 47466.1\n",
       "3    2024/04/06        1                 79385.5\n",
       "4    2024/04/06        2                 59199.6\n",
       "..          ...      ...                     ...\n",
       "122  2024/05/15        3                 67346.8\n",
       "123  2024/05/16        1                 55120.8\n",
       "124  2024/05/16        2                 60229.2\n",
       "125  2024/05/16        3                 61264.1\n",
       "126  2024/05/17        3                   670.3\n",
       "\n",
       "[127 rows x 3 columns]"
      ]
     },
     "execution_count": 93,
     "metadata": {},
     "output_type": "execute_result"
    }
   ],
   "source": [
    "daily_rev = final_data.groupby([\"DATE\",\"variant\"])[\"Total_purchased_amount\"].sum().reset_index()\n",
    "daily_rev"
   ]
  },
  {
   "cell_type": "code",
   "execution_count": 167,
   "id": "472e60e6",
   "metadata": {},
   "outputs": [
    {
     "data": {
      "text/plain": [
       "variant\n",
       "1    40550.545238\n",
       "2    37882.271429\n",
       "3    40281.293023\n",
       "Name: Total_purchased_amount, dtype: float64"
      ]
     },
     "execution_count": 167,
     "metadata": {},
     "output_type": "execute_result"
    }
   ],
   "source": [
    "summary = daily_rev.groupby('variant')['Total_purchased_amount'].mean()\n",
    "summary"
   ]
  },
  {
   "cell_type": "code",
   "execution_count": 95,
   "id": "8e4f7d06",
   "metadata": {},
   "outputs": [],
   "source": [
    "rev_1 = daily_rev[daily_rev['variant'] == 1]['Total_purchased_amount']\n",
    "rev_2 = daily_rev[daily_rev['variant'] == 2]['Total_purchased_amount']\n",
    "rev_3 = daily_rev[daily_rev['variant'] == 3]['Total_purchased_amount']"
   ]
  },
  {
   "cell_type": "markdown",
   "id": "c29d5b0a",
   "metadata": {},
   "source": [
    "I am using the t-test hypothesis testing method since I am working with continuous data and comparing means between groups."
   ]
  },
  {
   "cell_type": "code",
   "execution_count": 96,
   "id": "e83259c1",
   "metadata": {},
   "outputs": [],
   "source": [
    "# 1 vs 2\n",
    "t_stat_12, p_value_12 = stats.ttest_ind(rev_1, rev_2)\n",
    "# 1 vs 3\n",
    "t_stat_13, p_value_13 = stats.ttest_ind(rev_1, rev_3)\n",
    "# 2 vs 3\n",
    "t_stat_23, p_value_23 = stats.ttest_ind(rev_2, rev_3)"
   ]
  },
  {
   "cell_type": "code",
   "execution_count": 100,
   "id": "1f93f08d",
   "metadata": {},
   "outputs": [
    {
     "data": {
      "text/plain": [
       "0.016666666666666666"
      ]
     },
     "execution_count": 100,
     "metadata": {},
     "output_type": "execute_result"
    }
   ],
   "source": [
    "# Bonferroni correction\n",
    "alpha = 0.05\n",
    "adjusted_alpha = alpha / 3 \n",
    "adjusted_alpha"
   ]
  },
  {
   "cell_type": "markdown",
   "id": "f2b28396",
   "metadata": {},
   "source": [
    "Bonferroni correction adjusts the significance level to account for multiple comparisons, reducing the risk of false positives."
   ]
  },
  {
   "cell_type": "code",
   "execution_count": 101,
   "id": "9638e966",
   "metadata": {},
   "outputs": [
    {
     "name": "stdout",
     "output_type": "stream",
     "text": [
      "False\n"
     ]
    },
    {
     "data": {
      "text/plain": [
       "0.711594417850025"
      ]
     },
     "execution_count": 101,
     "metadata": {},
     "output_type": "execute_result"
    }
   ],
   "source": [
    "sig_12 = p_value_12 < adjusted_alpha\n",
    "print(sig_12)\n",
    "p_value_12"
   ]
  },
  {
   "cell_type": "code",
   "execution_count": 102,
   "id": "4c781071",
   "metadata": {},
   "outputs": [
    {
     "name": "stdout",
     "output_type": "stream",
     "text": [
      "False\n"
     ]
    },
    {
     "data": {
      "text/plain": [
       "0.970866766760517"
      ]
     },
     "execution_count": 102,
     "metadata": {},
     "output_type": "execute_result"
    }
   ],
   "source": [
    "sig_13 = p_value_13 < adjusted_alpha\n",
    "print(sig_13)\n",
    "p_value_13"
   ]
  },
  {
   "cell_type": "code",
   "execution_count": 103,
   "id": "d310a1fb",
   "metadata": {},
   "outputs": [
    {
     "name": "stdout",
     "output_type": "stream",
     "text": [
      "False\n"
     ]
    },
    {
     "data": {
      "text/plain": [
       "0.7444249085869532"
      ]
     },
     "execution_count": 103,
     "metadata": {},
     "output_type": "execute_result"
    }
   ],
   "source": [
    "sig_23 = p_value_23 < adjusted_alpha\n",
    "print(sig_23)\n",
    "p_value_23"
   ]
  },
  {
   "cell_type": "markdown",
   "id": "1ecb8ca7",
   "metadata": {},
   "source": [
    "There does not seem to be any statistical difference between the different versions regarding daily revenue brought in by the feature. But based on the mean alone, variant 1 should be rolled out with respect to the KPI daily revenue."
   ]
  },
  {
   "cell_type": "markdown",
   "id": "b8f37fd1",
   "metadata": {},
   "source": [
    "### Question 2: How does user purchasing behavior differ across the three feature variants?\n",
    "\n",
    "##### 1. Is there a difference in single purchase values \n",
    "\n",
    "##### 2. Is there a difference in number of purchases"
   ]
  },
  {
   "cell_type": "markdown",
   "id": "b98ba35b",
   "metadata": {},
   "source": [
    "Here, I am assuming that the \"single purchase values\" means the \"average value / amount for every purchase\" called Average Order Value (AOV). I am calculating it as: total_purchased_amount / purchases"
   ]
  },
  {
   "cell_type": "code",
   "execution_count": 104,
   "id": "80ae23af",
   "metadata": {},
   "outputs": [
    {
     "data": {
      "text/html": [
       "<div>\n",
       "<style scoped>\n",
       "    .dataframe tbody tr th:only-of-type {\n",
       "        vertical-align: middle;\n",
       "    }\n",
       "\n",
       "    .dataframe tbody tr th {\n",
       "        vertical-align: top;\n",
       "    }\n",
       "\n",
       "    .dataframe thead th {\n",
       "        text-align: right;\n",
       "    }\n",
       "</style>\n",
       "<table border=\"1\" class=\"dataframe\">\n",
       "  <thead>\n",
       "    <tr style=\"text-align: right;\">\n",
       "      <th></th>\n",
       "      <th>userid</th>\n",
       "      <th>variant</th>\n",
       "      <th>Purchases</th>\n",
       "      <th>Total_purchased_amount</th>\n",
       "    </tr>\n",
       "  </thead>\n",
       "  <tbody>\n",
       "    <tr>\n",
       "      <th>0</th>\n",
       "      <td>1</td>\n",
       "      <td>2</td>\n",
       "      <td>1317</td>\n",
       "      <td>92.2</td>\n",
       "    </tr>\n",
       "    <tr>\n",
       "      <th>1</th>\n",
       "      <td>2</td>\n",
       "      <td>3</td>\n",
       "      <td>72</td>\n",
       "      <td>3.6</td>\n",
       "    </tr>\n",
       "    <tr>\n",
       "      <th>2</th>\n",
       "      <td>3</td>\n",
       "      <td>1</td>\n",
       "      <td>54</td>\n",
       "      <td>3.9</td>\n",
       "    </tr>\n",
       "    <tr>\n",
       "      <th>3</th>\n",
       "      <td>4</td>\n",
       "      <td>3</td>\n",
       "      <td>309</td>\n",
       "      <td>69.6</td>\n",
       "    </tr>\n",
       "    <tr>\n",
       "      <th>4</th>\n",
       "      <td>5</td>\n",
       "      <td>1</td>\n",
       "      <td>213</td>\n",
       "      <td>23.2</td>\n",
       "    </tr>\n",
       "    <tr>\n",
       "      <th>...</th>\n",
       "      <td>...</td>\n",
       "      <td>...</td>\n",
       "      <td>...</td>\n",
       "      <td>...</td>\n",
       "    </tr>\n",
       "    <tr>\n",
       "      <th>48505</th>\n",
       "      <td>64758</td>\n",
       "      <td>3</td>\n",
       "      <td>42</td>\n",
       "      <td>6.0</td>\n",
       "    </tr>\n",
       "    <tr>\n",
       "      <th>48506</th>\n",
       "      <td>64759</td>\n",
       "      <td>2</td>\n",
       "      <td>30</td>\n",
       "      <td>0.7</td>\n",
       "    </tr>\n",
       "    <tr>\n",
       "      <th>48507</th>\n",
       "      <td>64760</td>\n",
       "      <td>1</td>\n",
       "      <td>258</td>\n",
       "      <td>9.6</td>\n",
       "    </tr>\n",
       "    <tr>\n",
       "      <th>48508</th>\n",
       "      <td>64761</td>\n",
       "      <td>1</td>\n",
       "      <td>843</td>\n",
       "      <td>18.4</td>\n",
       "    </tr>\n",
       "    <tr>\n",
       "      <th>48509</th>\n",
       "      <td>64763</td>\n",
       "      <td>1</td>\n",
       "      <td>2925</td>\n",
       "      <td>87.1</td>\n",
       "    </tr>\n",
       "  </tbody>\n",
       "</table>\n",
       "<p>48510 rows × 4 columns</p>\n",
       "</div>"
      ],
      "text/plain": [
       "       userid  variant  Purchases  Total_purchased_amount\n",
       "0           1        2       1317                    92.2\n",
       "1           2        3         72                     3.6\n",
       "2           3        1         54                     3.9\n",
       "3           4        3        309                    69.6\n",
       "4           5        1        213                    23.2\n",
       "...       ...      ...        ...                     ...\n",
       "48505   64758        3         42                     6.0\n",
       "48506   64759        2         30                     0.7\n",
       "48507   64760        1        258                     9.6\n",
       "48508   64761        1        843                    18.4\n",
       "48509   64763        1       2925                    87.1\n",
       "\n",
       "[48510 rows x 4 columns]"
      ]
     },
     "execution_count": 104,
     "metadata": {},
     "output_type": "execute_result"
    }
   ],
   "source": [
    "users = final_data.groupby([\"userid\",\"variant\"])[[\"Purchases\",\"Total_purchased_amount\"]].sum().reset_index()\n",
    "users"
   ]
  },
  {
   "cell_type": "code",
   "execution_count": 105,
   "id": "2ebbecda",
   "metadata": {},
   "outputs": [],
   "source": [
    "users[\"AOV\"] = users[\"Total_purchased_amount\"] / users[\"Purchases\"]"
   ]
  },
  {
   "cell_type": "code",
   "execution_count": 106,
   "id": "09361646",
   "metadata": {},
   "outputs": [
    {
     "data": {
      "text/html": [
       "<div>\n",
       "<style scoped>\n",
       "    .dataframe tbody tr th:only-of-type {\n",
       "        vertical-align: middle;\n",
       "    }\n",
       "\n",
       "    .dataframe tbody tr th {\n",
       "        vertical-align: top;\n",
       "    }\n",
       "\n",
       "    .dataframe thead th {\n",
       "        text-align: right;\n",
       "    }\n",
       "</style>\n",
       "<table border=\"1\" class=\"dataframe\">\n",
       "  <thead>\n",
       "    <tr style=\"text-align: right;\">\n",
       "      <th></th>\n",
       "      <th>userid</th>\n",
       "      <th>variant</th>\n",
       "      <th>Purchases</th>\n",
       "      <th>Total_purchased_amount</th>\n",
       "      <th>AOV</th>\n",
       "    </tr>\n",
       "  </thead>\n",
       "  <tbody>\n",
       "    <tr>\n",
       "      <th>0</th>\n",
       "      <td>1</td>\n",
       "      <td>2</td>\n",
       "      <td>1317</td>\n",
       "      <td>92.2</td>\n",
       "      <td>0.070008</td>\n",
       "    </tr>\n",
       "    <tr>\n",
       "      <th>1</th>\n",
       "      <td>2</td>\n",
       "      <td>3</td>\n",
       "      <td>72</td>\n",
       "      <td>3.6</td>\n",
       "      <td>0.050000</td>\n",
       "    </tr>\n",
       "    <tr>\n",
       "      <th>2</th>\n",
       "      <td>3</td>\n",
       "      <td>1</td>\n",
       "      <td>54</td>\n",
       "      <td>3.9</td>\n",
       "      <td>0.072222</td>\n",
       "    </tr>\n",
       "    <tr>\n",
       "      <th>3</th>\n",
       "      <td>4</td>\n",
       "      <td>3</td>\n",
       "      <td>309</td>\n",
       "      <td>69.6</td>\n",
       "      <td>0.225243</td>\n",
       "    </tr>\n",
       "    <tr>\n",
       "      <th>4</th>\n",
       "      <td>5</td>\n",
       "      <td>1</td>\n",
       "      <td>213</td>\n",
       "      <td>23.2</td>\n",
       "      <td>0.108920</td>\n",
       "    </tr>\n",
       "    <tr>\n",
       "      <th>...</th>\n",
       "      <td>...</td>\n",
       "      <td>...</td>\n",
       "      <td>...</td>\n",
       "      <td>...</td>\n",
       "      <td>...</td>\n",
       "    </tr>\n",
       "    <tr>\n",
       "      <th>48505</th>\n",
       "      <td>64758</td>\n",
       "      <td>3</td>\n",
       "      <td>42</td>\n",
       "      <td>6.0</td>\n",
       "      <td>0.142857</td>\n",
       "    </tr>\n",
       "    <tr>\n",
       "      <th>48506</th>\n",
       "      <td>64759</td>\n",
       "      <td>2</td>\n",
       "      <td>30</td>\n",
       "      <td>0.7</td>\n",
       "      <td>0.023333</td>\n",
       "    </tr>\n",
       "    <tr>\n",
       "      <th>48507</th>\n",
       "      <td>64760</td>\n",
       "      <td>1</td>\n",
       "      <td>258</td>\n",
       "      <td>9.6</td>\n",
       "      <td>0.037209</td>\n",
       "    </tr>\n",
       "    <tr>\n",
       "      <th>48508</th>\n",
       "      <td>64761</td>\n",
       "      <td>1</td>\n",
       "      <td>843</td>\n",
       "      <td>18.4</td>\n",
       "      <td>0.021827</td>\n",
       "    </tr>\n",
       "    <tr>\n",
       "      <th>48509</th>\n",
       "      <td>64763</td>\n",
       "      <td>1</td>\n",
       "      <td>2925</td>\n",
       "      <td>87.1</td>\n",
       "      <td>0.029778</td>\n",
       "    </tr>\n",
       "  </tbody>\n",
       "</table>\n",
       "<p>48510 rows × 5 columns</p>\n",
       "</div>"
      ],
      "text/plain": [
       "       userid  variant  Purchases  Total_purchased_amount       AOV\n",
       "0           1        2       1317                    92.2  0.070008\n",
       "1           2        3         72                     3.6  0.050000\n",
       "2           3        1         54                     3.9  0.072222\n",
       "3           4        3        309                    69.6  0.225243\n",
       "4           5        1        213                    23.2  0.108920\n",
       "...       ...      ...        ...                     ...       ...\n",
       "48505   64758        3         42                     6.0  0.142857\n",
       "48506   64759        2         30                     0.7  0.023333\n",
       "48507   64760        1        258                     9.6  0.037209\n",
       "48508   64761        1        843                    18.4  0.021827\n",
       "48509   64763        1       2925                    87.1  0.029778\n",
       "\n",
       "[48510 rows x 5 columns]"
      ]
     },
     "execution_count": 106,
     "metadata": {},
     "output_type": "execute_result"
    }
   ],
   "source": [
    "users"
   ]
  },
  {
   "cell_type": "code",
   "execution_count": 107,
   "id": "8e435979",
   "metadata": {},
   "outputs": [],
   "source": [
    "aov_1 = users[users['variant'] == 1]['AOV']\n",
    "aov_2 = users[users['variant'] == 2]['AOV']\n",
    "aov_3 = users[users['variant'] == 3]['AOV']"
   ]
  },
  {
   "cell_type": "code",
   "execution_count": 108,
   "id": "8251bd31",
   "metadata": {},
   "outputs": [],
   "source": [
    "# 1 vs 2\n",
    "t_stat_aov_12, p_value_aov_12 = stats.ttest_ind(aov_1, aov_2)\n",
    "# 1 vs 3\n",
    "t_stat_aov_13, p_value_aov_13 = stats.ttest_ind(aov_1, aov_3)\n",
    "# 2 vs 3\n",
    "t_stat_aov_23, p_value_aov_23 = stats.ttest_ind(aov_2, aov_3)"
   ]
  },
  {
   "cell_type": "code",
   "execution_count": 109,
   "id": "3ee50561",
   "metadata": {},
   "outputs": [],
   "source": [
    "# Bonferroni correction\n",
    "alpha = 0.05\n",
    "adjusted_alpha = alpha / 3"
   ]
  },
  {
   "cell_type": "code",
   "execution_count": 110,
   "id": "ada8256e",
   "metadata": {},
   "outputs": [
    {
     "name": "stdout",
     "output_type": "stream",
     "text": [
      "False\n"
     ]
    },
    {
     "data": {
      "text/plain": [
       "0.36126643808818504"
      ]
     },
     "execution_count": 110,
     "metadata": {},
     "output_type": "execute_result"
    }
   ],
   "source": [
    "sig_aov_12 = p_value_aov_12 < adjusted_alpha\n",
    "print(sig_aov_12)\n",
    "p_value_aov_12"
   ]
  },
  {
   "cell_type": "code",
   "execution_count": 111,
   "id": "d5c13a54",
   "metadata": {},
   "outputs": [
    {
     "name": "stdout",
     "output_type": "stream",
     "text": [
      "False\n"
     ]
    },
    {
     "data": {
      "text/plain": [
       "0.5331241424801791"
      ]
     },
     "execution_count": 111,
     "metadata": {},
     "output_type": "execute_result"
    }
   ],
   "source": [
    "sig_aov_13 = p_value_aov_13 < adjusted_alpha\n",
    "print(sig_aov_13)\n",
    "p_value_aov_13"
   ]
  },
  {
   "cell_type": "code",
   "execution_count": 112,
   "id": "f1e059d7",
   "metadata": {},
   "outputs": [
    {
     "name": "stdout",
     "output_type": "stream",
     "text": [
      "False\n"
     ]
    },
    {
     "data": {
      "text/plain": [
       "0.20620524746730753"
      ]
     },
     "execution_count": 112,
     "metadata": {},
     "output_type": "execute_result"
    }
   ],
   "source": [
    "sig_aov_23 = p_value_aov_23 < adjusted_alpha\n",
    "print(sig_aov_23)\n",
    "p_value_aov_23"
   ]
  },
  {
   "cell_type": "code",
   "execution_count": 165,
   "id": "0db3791c",
   "metadata": {},
   "outputs": [
    {
     "data": {
      "text/plain": [
       "variant\n",
       "1    0.140731\n",
       "2    0.154802\n",
       "3    0.136069\n",
       "Name: AOV, dtype: float64"
      ]
     },
     "execution_count": 165,
     "metadata": {},
     "output_type": "execute_result"
    }
   ],
   "source": [
    "users.groupby('variant')['AOV'].mean()"
   ]
  },
  {
   "cell_type": "markdown",
   "id": "9ee423f4",
   "metadata": {},
   "source": [
    "There does not seem to be any statistical difference between the user behavior in terms of single purchase values. Based on the mean AOV, variant 2 should be rolled out."
   ]
  },
  {
   "cell_type": "code",
   "execution_count": 113,
   "id": "c6b41aec",
   "metadata": {},
   "outputs": [],
   "source": [
    "pur_1 = users[users['variant'] == 1]['Purchases']\n",
    "pur_2 = users[users['variant'] == 2]['Purchases']\n",
    "pur_3 = users[users['variant'] == 3]['Purchases']"
   ]
  },
  {
   "cell_type": "code",
   "execution_count": 114,
   "id": "54017608",
   "metadata": {},
   "outputs": [],
   "source": [
    "# 1 vs 2\n",
    "t_stat_pur_12, p_value_pur_12 = stats.ttest_ind(pur_1, pur_2)\n",
    "# 1 vs 3\n",
    "t_stat_pur_13, p_value_pur_13 = stats.ttest_ind(pur_1, pur_3)\n",
    "# 2 vs 3\n",
    "t_stat_pur_23, p_value_pur_23 = stats.ttest_ind(pur_2, pur_3)"
   ]
  },
  {
   "cell_type": "code",
   "execution_count": 115,
   "id": "786d2a08",
   "metadata": {},
   "outputs": [
    {
     "name": "stdout",
     "output_type": "stream",
     "text": [
      "True\n"
     ]
    },
    {
     "data": {
      "text/plain": [
       "0.005246952616834418"
      ]
     },
     "execution_count": 115,
     "metadata": {},
     "output_type": "execute_result"
    }
   ],
   "source": [
    "sig_pur_12 = p_value_pur_12 < adjusted_alpha\n",
    "print(sig_pur_12)\n",
    "p_value_pur_12"
   ]
  },
  {
   "cell_type": "code",
   "execution_count": 116,
   "id": "22bba273",
   "metadata": {},
   "outputs": [
    {
     "name": "stdout",
     "output_type": "stream",
     "text": [
      "False\n"
     ]
    },
    {
     "data": {
      "text/plain": [
       "0.2801776470612611"
      ]
     },
     "execution_count": 116,
     "metadata": {},
     "output_type": "execute_result"
    }
   ],
   "source": [
    "sig_pur_13 = p_value_pur_13 < adjusted_alpha\n",
    "print(sig_pur_13)\n",
    "p_value_pur_13"
   ]
  },
  {
   "cell_type": "code",
   "execution_count": 117,
   "id": "3b31ccce",
   "metadata": {},
   "outputs": [
    {
     "name": "stdout",
     "output_type": "stream",
     "text": [
      "True\n"
     ]
    },
    {
     "data": {
      "text/plain": [
       "6.92982250659887e-05"
      ]
     },
     "execution_count": 117,
     "metadata": {},
     "output_type": "execute_result"
    }
   ],
   "source": [
    "sig_pur_23 = p_value_pur_23 < adjusted_alpha\n",
    "print(sig_pur_23)\n",
    "p_value_pur_23"
   ]
  },
  {
   "cell_type": "code",
   "execution_count": 118,
   "id": "a6b13fd7",
   "metadata": {},
   "outputs": [
    {
     "data": {
      "text/plain": [
       "variant\n",
       "1    709.235400\n",
       "2    654.704287\n",
       "3    730.533780\n",
       "Name: Purchases, dtype: float64"
      ]
     },
     "execution_count": 118,
     "metadata": {},
     "output_type": "execute_result"
    }
   ],
   "source": [
    "purchase_summary = users.groupby('variant')['Purchases'].mean()\n",
    "purchase_summary"
   ]
  },
  {
   "cell_type": "markdown",
   "id": "8c9e68ba",
   "metadata": {},
   "source": [
    "From the t-test and the above summary, it can be seen that the variants 1 and 3 significantly exceed variant 2 in terms of number of purchases. There is no significant difference between variants 1 and 3 in terms of number of purchases. Although, variant 3 received more purchases than variant 1, there does not seem to be a statistically significant difference. So based on number of purchases alone, variant 3 should be rolled out."
   ]
  },
  {
   "cell_type": "markdown",
   "id": "d01f4013",
   "metadata": {},
   "source": [
    "### Question 3: Does any feature variant lead to better user retention?"
   ]
  },
  {
   "cell_type": "code",
   "execution_count": 30,
   "id": "472d0869",
   "metadata": {},
   "outputs": [],
   "source": [
    "final_data['DATE'] = pd.to_datetime(final_data['DATE'])"
   ]
  },
  {
   "cell_type": "markdown",
   "id": "f17ba65d",
   "metadata": {},
   "source": [
    "I am doing cohort analysis to calculate the daily retention rates by variant."
   ]
  },
  {
   "cell_type": "code",
   "execution_count": 31,
   "id": "df5608bf",
   "metadata": {},
   "outputs": [],
   "source": [
    "data_final_cohort = final_data.sort_values(by=['userid', 'DATE'])"
   ]
  },
  {
   "cell_type": "code",
   "execution_count": 32,
   "id": "6d64617b",
   "metadata": {},
   "outputs": [],
   "source": [
    "data_final_cohort['cohort_date'] = data_final_cohort.groupby('userid')['DATE'].transform('min')"
   ]
  },
  {
   "cell_type": "code",
   "execution_count": 34,
   "id": "f3341569",
   "metadata": {},
   "outputs": [],
   "source": [
    "data_final_cohort['days_since_cohort'] = (data_final_cohort['DATE'] - data_final_cohort['cohort_date']).dt.days"
   ]
  },
  {
   "cell_type": "code",
   "execution_count": 35,
   "id": "beee8615",
   "metadata": {},
   "outputs": [
    {
     "data": {
      "text/html": [
       "<div>\n",
       "<style scoped>\n",
       "    .dataframe tbody tr th:only-of-type {\n",
       "        vertical-align: middle;\n",
       "    }\n",
       "\n",
       "    .dataframe tbody tr th {\n",
       "        vertical-align: top;\n",
       "    }\n",
       "\n",
       "    .dataframe thead th {\n",
       "        text-align: right;\n",
       "    }\n",
       "</style>\n",
       "<table border=\"1\" class=\"dataframe\">\n",
       "  <thead>\n",
       "    <tr style=\"text-align: right;\">\n",
       "      <th></th>\n",
       "      <th>DATE</th>\n",
       "      <th>userid</th>\n",
       "      <th>variant</th>\n",
       "      <th>Purchases</th>\n",
       "      <th>Total_purchased_amount</th>\n",
       "      <th>cohort_date</th>\n",
       "      <th>days_since_cohort</th>\n",
       "    </tr>\n",
       "  </thead>\n",
       "  <tbody>\n",
       "    <tr>\n",
       "      <th>24278</th>\n",
       "      <td>2024-05-07</td>\n",
       "      <td>1</td>\n",
       "      <td>2</td>\n",
       "      <td>408</td>\n",
       "      <td>30.7</td>\n",
       "      <td>2024-05-07</td>\n",
       "      <td>0</td>\n",
       "    </tr>\n",
       "    <tr>\n",
       "      <th>44720</th>\n",
       "      <td>2024-05-10</td>\n",
       "      <td>1</td>\n",
       "      <td>2</td>\n",
       "      <td>207</td>\n",
       "      <td>7.9</td>\n",
       "      <td>2024-05-07</td>\n",
       "      <td>3</td>\n",
       "    </tr>\n",
       "    <tr>\n",
       "      <th>58854</th>\n",
       "      <td>2024-05-13</td>\n",
       "      <td>1</td>\n",
       "      <td>2</td>\n",
       "      <td>273</td>\n",
       "      <td>20.8</td>\n",
       "      <td>2024-05-07</td>\n",
       "      <td>6</td>\n",
       "    </tr>\n",
       "    <tr>\n",
       "      <th>62848</th>\n",
       "      <td>2024-05-14</td>\n",
       "      <td>1</td>\n",
       "      <td>2</td>\n",
       "      <td>429</td>\n",
       "      <td>32.8</td>\n",
       "      <td>2024-05-07</td>\n",
       "      <td>7</td>\n",
       "    </tr>\n",
       "    <tr>\n",
       "      <th>21743</th>\n",
       "      <td>2024-04-30</td>\n",
       "      <td>2</td>\n",
       "      <td>3</td>\n",
       "      <td>72</td>\n",
       "      <td>3.6</td>\n",
       "      <td>2024-04-30</td>\n",
       "      <td>0</td>\n",
       "    </tr>\n",
       "    <tr>\n",
       "      <th>...</th>\n",
       "      <td>...</td>\n",
       "      <td>...</td>\n",
       "      <td>...</td>\n",
       "      <td>...</td>\n",
       "      <td>...</td>\n",
       "      <td>...</td>\n",
       "      <td>...</td>\n",
       "    </tr>\n",
       "    <tr>\n",
       "      <th>4742</th>\n",
       "      <td>2024-04-07</td>\n",
       "      <td>64760</td>\n",
       "      <td>1</td>\n",
       "      <td>156</td>\n",
       "      <td>7.1</td>\n",
       "      <td>2024-04-06</td>\n",
       "      <td>1</td>\n",
       "    </tr>\n",
       "    <tr>\n",
       "      <th>7010</th>\n",
       "      <td>2024-04-09</td>\n",
       "      <td>64760</td>\n",
       "      <td>1</td>\n",
       "      <td>24</td>\n",
       "      <td>0.6</td>\n",
       "      <td>2024-04-06</td>\n",
       "      <td>3</td>\n",
       "    </tr>\n",
       "    <tr>\n",
       "      <th>50214</th>\n",
       "      <td>2024-05-10</td>\n",
       "      <td>64761</td>\n",
       "      <td>1</td>\n",
       "      <td>735</td>\n",
       "      <td>16.8</td>\n",
       "      <td>2024-05-10</td>\n",
       "      <td>0</td>\n",
       "    </tr>\n",
       "    <tr>\n",
       "      <th>62847</th>\n",
       "      <td>2024-05-13</td>\n",
       "      <td>64761</td>\n",
       "      <td>1</td>\n",
       "      <td>108</td>\n",
       "      <td>1.6</td>\n",
       "      <td>2024-05-10</td>\n",
       "      <td>3</td>\n",
       "    </tr>\n",
       "    <tr>\n",
       "      <th>44719</th>\n",
       "      <td>2024-05-09</td>\n",
       "      <td>64763</td>\n",
       "      <td>1</td>\n",
       "      <td>2925</td>\n",
       "      <td>87.1</td>\n",
       "      <td>2024-05-09</td>\n",
       "      <td>0</td>\n",
       "    </tr>\n",
       "  </tbody>\n",
       "</table>\n",
       "<p>74044 rows × 7 columns</p>\n",
       "</div>"
      ],
      "text/plain": [
       "            DATE  userid  variant  Purchases  Total_purchased_amount  \\\n",
       "24278 2024-05-07       1        2        408                    30.7   \n",
       "44720 2024-05-10       1        2        207                     7.9   \n",
       "58854 2024-05-13       1        2        273                    20.8   \n",
       "62848 2024-05-14       1        2        429                    32.8   \n",
       "21743 2024-04-30       2        3         72                     3.6   \n",
       "...          ...     ...      ...        ...                     ...   \n",
       "4742  2024-04-07   64760        1        156                     7.1   \n",
       "7010  2024-04-09   64760        1         24                     0.6   \n",
       "50214 2024-05-10   64761        1        735                    16.8   \n",
       "62847 2024-05-13   64761        1        108                     1.6   \n",
       "44719 2024-05-09   64763        1       2925                    87.1   \n",
       "\n",
       "      cohort_date  days_since_cohort  \n",
       "24278  2024-05-07                  0  \n",
       "44720  2024-05-07                  3  \n",
       "58854  2024-05-07                  6  \n",
       "62848  2024-05-07                  7  \n",
       "21743  2024-04-30                  0  \n",
       "...           ...                ...  \n",
       "4742   2024-04-06                  1  \n",
       "7010   2024-04-06                  3  \n",
       "50214  2024-05-10                  0  \n",
       "62847  2024-05-10                  3  \n",
       "44719  2024-05-09                  0  \n",
       "\n",
       "[74044 rows x 7 columns]"
      ]
     },
     "execution_count": 35,
     "metadata": {},
     "output_type": "execute_result"
    }
   ],
   "source": [
    "data_final_cohort"
   ]
  },
  {
   "cell_type": "code",
   "execution_count": 37,
   "id": "48c6769e",
   "metadata": {},
   "outputs": [
    {
     "data": {
      "text/html": [
       "<div>\n",
       "<style scoped>\n",
       "    .dataframe tbody tr th:only-of-type {\n",
       "        vertical-align: middle;\n",
       "    }\n",
       "\n",
       "    .dataframe tbody tr th {\n",
       "        vertical-align: top;\n",
       "    }\n",
       "\n",
       "    .dataframe thead th {\n",
       "        text-align: right;\n",
       "    }\n",
       "</style>\n",
       "<table border=\"1\" class=\"dataframe\">\n",
       "  <thead>\n",
       "    <tr style=\"text-align: right;\">\n",
       "      <th></th>\n",
       "      <th>variant</th>\n",
       "      <th>cohort_date</th>\n",
       "      <th>days_since_cohort</th>\n",
       "      <th>userid</th>\n",
       "    </tr>\n",
       "  </thead>\n",
       "  <tbody>\n",
       "    <tr>\n",
       "      <th>0</th>\n",
       "      <td>1</td>\n",
       "      <td>2024-04-05</td>\n",
       "      <td>0</td>\n",
       "      <td>452</td>\n",
       "    </tr>\n",
       "    <tr>\n",
       "      <th>1</th>\n",
       "      <td>1</td>\n",
       "      <td>2024-04-05</td>\n",
       "      <td>1</td>\n",
       "      <td>87</td>\n",
       "    </tr>\n",
       "    <tr>\n",
       "      <th>2</th>\n",
       "      <td>1</td>\n",
       "      <td>2024-04-05</td>\n",
       "      <td>2</td>\n",
       "      <td>70</td>\n",
       "    </tr>\n",
       "    <tr>\n",
       "      <th>3</th>\n",
       "      <td>1</td>\n",
       "      <td>2024-04-05</td>\n",
       "      <td>3</td>\n",
       "      <td>42</td>\n",
       "    </tr>\n",
       "    <tr>\n",
       "      <th>4</th>\n",
       "      <td>1</td>\n",
       "      <td>2024-04-05</td>\n",
       "      <td>4</td>\n",
       "      <td>56</td>\n",
       "    </tr>\n",
       "    <tr>\n",
       "      <th>...</th>\n",
       "      <td>...</td>\n",
       "      <td>...</td>\n",
       "      <td>...</td>\n",
       "      <td>...</td>\n",
       "    </tr>\n",
       "    <tr>\n",
       "      <th>2258</th>\n",
       "      <td>3</td>\n",
       "      <td>2024-05-14</td>\n",
       "      <td>1</td>\n",
       "      <td>50</td>\n",
       "    </tr>\n",
       "    <tr>\n",
       "      <th>2259</th>\n",
       "      <td>3</td>\n",
       "      <td>2024-05-14</td>\n",
       "      <td>2</td>\n",
       "      <td>32</td>\n",
       "    </tr>\n",
       "    <tr>\n",
       "      <th>2260</th>\n",
       "      <td>3</td>\n",
       "      <td>2024-05-15</td>\n",
       "      <td>0</td>\n",
       "      <td>704</td>\n",
       "    </tr>\n",
       "    <tr>\n",
       "      <th>2261</th>\n",
       "      <td>3</td>\n",
       "      <td>2024-05-15</td>\n",
       "      <td>1</td>\n",
       "      <td>54</td>\n",
       "    </tr>\n",
       "    <tr>\n",
       "      <th>2262</th>\n",
       "      <td>3</td>\n",
       "      <td>2024-05-16</td>\n",
       "      <td>0</td>\n",
       "      <td>719</td>\n",
       "    </tr>\n",
       "  </tbody>\n",
       "</table>\n",
       "<p>2263 rows × 4 columns</p>\n",
       "</div>"
      ],
      "text/plain": [
       "      variant cohort_date  days_since_cohort  userid\n",
       "0           1  2024-04-05                  0     452\n",
       "1           1  2024-04-05                  1      87\n",
       "2           1  2024-04-05                  2      70\n",
       "3           1  2024-04-05                  3      42\n",
       "4           1  2024-04-05                  4      56\n",
       "...       ...         ...                ...     ...\n",
       "2258        3  2024-05-14                  1      50\n",
       "2259        3  2024-05-14                  2      32\n",
       "2260        3  2024-05-15                  0     704\n",
       "2261        3  2024-05-15                  1      54\n",
       "2262        3  2024-05-16                  0     719\n",
       "\n",
       "[2263 rows x 4 columns]"
      ]
     },
     "execution_count": 37,
     "metadata": {},
     "output_type": "execute_result"
    }
   ],
   "source": [
    "variant_data = data_final_cohort.groupby(['variant', 'cohort_date', 'days_since_cohort'])['userid'].nunique().reset_index()\n",
    "variant_data"
   ]
  },
  {
   "cell_type": "code",
   "execution_count": 38,
   "id": "4fb46a97",
   "metadata": {},
   "outputs": [],
   "source": [
    "variant_cohort_sizes = variant_data[variant_data['days_since_cohort'] == 0][['variant', 'cohort_date', 'userid']]\n",
    "variant_cohort_sizes = variant_cohort_sizes.rename(columns={'userid': 'cohort_size'})"
   ]
  },
  {
   "cell_type": "code",
   "execution_count": 39,
   "id": "45934811",
   "metadata": {},
   "outputs": [
    {
     "data": {
      "text/html": [
       "<div>\n",
       "<style scoped>\n",
       "    .dataframe tbody tr th:only-of-type {\n",
       "        vertical-align: middle;\n",
       "    }\n",
       "\n",
       "    .dataframe tbody tr th {\n",
       "        vertical-align: top;\n",
       "    }\n",
       "\n",
       "    .dataframe thead th {\n",
       "        text-align: right;\n",
       "    }\n",
       "</style>\n",
       "<table border=\"1\" class=\"dataframe\">\n",
       "  <thead>\n",
       "    <tr style=\"text-align: right;\">\n",
       "      <th></th>\n",
       "      <th>variant</th>\n",
       "      <th>cohort_date</th>\n",
       "      <th>cohort_size</th>\n",
       "    </tr>\n",
       "  </thead>\n",
       "  <tbody>\n",
       "    <tr>\n",
       "      <th>0</th>\n",
       "      <td>1</td>\n",
       "      <td>2024-04-05</td>\n",
       "      <td>452</td>\n",
       "    </tr>\n",
       "    <tr>\n",
       "      <th>42</th>\n",
       "      <td>1</td>\n",
       "      <td>2024-04-06</td>\n",
       "      <td>532</td>\n",
       "    </tr>\n",
       "    <tr>\n",
       "      <th>83</th>\n",
       "      <td>1</td>\n",
       "      <td>2024-04-07</td>\n",
       "      <td>349</td>\n",
       "    </tr>\n",
       "    <tr>\n",
       "      <th>123</th>\n",
       "      <td>1</td>\n",
       "      <td>2024-04-08</td>\n",
       "      <td>245</td>\n",
       "    </tr>\n",
       "    <tr>\n",
       "      <th>162</th>\n",
       "      <td>1</td>\n",
       "      <td>2024-04-09</td>\n",
       "      <td>225</td>\n",
       "    </tr>\n",
       "    <tr>\n",
       "      <th>...</th>\n",
       "      <td>...</td>\n",
       "      <td>...</td>\n",
       "      <td>...</td>\n",
       "    </tr>\n",
       "    <tr>\n",
       "      <th>2248</th>\n",
       "      <td>3</td>\n",
       "      <td>2024-05-12</td>\n",
       "      <td>808</td>\n",
       "    </tr>\n",
       "    <tr>\n",
       "      <th>2253</th>\n",
       "      <td>3</td>\n",
       "      <td>2024-05-13</td>\n",
       "      <td>832</td>\n",
       "    </tr>\n",
       "    <tr>\n",
       "      <th>2257</th>\n",
       "      <td>3</td>\n",
       "      <td>2024-05-14</td>\n",
       "      <td>796</td>\n",
       "    </tr>\n",
       "    <tr>\n",
       "      <th>2260</th>\n",
       "      <td>3</td>\n",
       "      <td>2024-05-15</td>\n",
       "      <td>704</td>\n",
       "    </tr>\n",
       "    <tr>\n",
       "      <th>2262</th>\n",
       "      <td>3</td>\n",
       "      <td>2024-05-16</td>\n",
       "      <td>719</td>\n",
       "    </tr>\n",
       "  </tbody>\n",
       "</table>\n",
       "<p>126 rows × 3 columns</p>\n",
       "</div>"
      ],
      "text/plain": [
       "      variant cohort_date  cohort_size\n",
       "0           1  2024-04-05          452\n",
       "42          1  2024-04-06          532\n",
       "83          1  2024-04-07          349\n",
       "123         1  2024-04-08          245\n",
       "162         1  2024-04-09          225\n",
       "...       ...         ...          ...\n",
       "2248        3  2024-05-12          808\n",
       "2253        3  2024-05-13          832\n",
       "2257        3  2024-05-14          796\n",
       "2260        3  2024-05-15          704\n",
       "2262        3  2024-05-16          719\n",
       "\n",
       "[126 rows x 3 columns]"
      ]
     },
     "execution_count": 39,
     "metadata": {},
     "output_type": "execute_result"
    }
   ],
   "source": [
    "variant_cohort_sizes"
   ]
  },
  {
   "cell_type": "code",
   "execution_count": 143,
   "id": "103625ba",
   "metadata": {},
   "outputs": [],
   "source": [
    "variant_data = pd.merge(variant_data, variant_cohort_sizes, on=['variant', 'cohort_date'])"
   ]
  },
  {
   "cell_type": "code",
   "execution_count": 145,
   "id": "192641e6",
   "metadata": {},
   "outputs": [
    {
     "data": {
      "text/html": [
       "<div>\n",
       "<style scoped>\n",
       "    .dataframe tbody tr th:only-of-type {\n",
       "        vertical-align: middle;\n",
       "    }\n",
       "\n",
       "    .dataframe tbody tr th {\n",
       "        vertical-align: top;\n",
       "    }\n",
       "\n",
       "    .dataframe thead th {\n",
       "        text-align: right;\n",
       "    }\n",
       "</style>\n",
       "<table border=\"1\" class=\"dataframe\">\n",
       "  <thead>\n",
       "    <tr style=\"text-align: right;\">\n",
       "      <th></th>\n",
       "      <th>variant</th>\n",
       "      <th>cohort_date</th>\n",
       "      <th>days_since_cohort</th>\n",
       "      <th>userid</th>\n",
       "      <th>cohort_size</th>\n",
       "      <th>retention_rate</th>\n",
       "    </tr>\n",
       "  </thead>\n",
       "  <tbody>\n",
       "    <tr>\n",
       "      <th>0</th>\n",
       "      <td>1</td>\n",
       "      <td>2024-04-05</td>\n",
       "      <td>0</td>\n",
       "      <td>452</td>\n",
       "      <td>452</td>\n",
       "      <td>1.000000</td>\n",
       "    </tr>\n",
       "    <tr>\n",
       "      <th>1</th>\n",
       "      <td>1</td>\n",
       "      <td>2024-04-05</td>\n",
       "      <td>1</td>\n",
       "      <td>87</td>\n",
       "      <td>452</td>\n",
       "      <td>0.192478</td>\n",
       "    </tr>\n",
       "    <tr>\n",
       "      <th>2</th>\n",
       "      <td>1</td>\n",
       "      <td>2024-04-05</td>\n",
       "      <td>2</td>\n",
       "      <td>70</td>\n",
       "      <td>452</td>\n",
       "      <td>0.154867</td>\n",
       "    </tr>\n",
       "    <tr>\n",
       "      <th>3</th>\n",
       "      <td>1</td>\n",
       "      <td>2024-04-05</td>\n",
       "      <td>3</td>\n",
       "      <td>42</td>\n",
       "      <td>452</td>\n",
       "      <td>0.092920</td>\n",
       "    </tr>\n",
       "    <tr>\n",
       "      <th>4</th>\n",
       "      <td>1</td>\n",
       "      <td>2024-04-05</td>\n",
       "      <td>4</td>\n",
       "      <td>56</td>\n",
       "      <td>452</td>\n",
       "      <td>0.123894</td>\n",
       "    </tr>\n",
       "    <tr>\n",
       "      <th>...</th>\n",
       "      <td>...</td>\n",
       "      <td>...</td>\n",
       "      <td>...</td>\n",
       "      <td>...</td>\n",
       "      <td>...</td>\n",
       "      <td>...</td>\n",
       "    </tr>\n",
       "    <tr>\n",
       "      <th>2258</th>\n",
       "      <td>3</td>\n",
       "      <td>2024-05-14</td>\n",
       "      <td>1</td>\n",
       "      <td>50</td>\n",
       "      <td>796</td>\n",
       "      <td>0.062814</td>\n",
       "    </tr>\n",
       "    <tr>\n",
       "      <th>2259</th>\n",
       "      <td>3</td>\n",
       "      <td>2024-05-14</td>\n",
       "      <td>2</td>\n",
       "      <td>32</td>\n",
       "      <td>796</td>\n",
       "      <td>0.040201</td>\n",
       "    </tr>\n",
       "    <tr>\n",
       "      <th>2260</th>\n",
       "      <td>3</td>\n",
       "      <td>2024-05-15</td>\n",
       "      <td>0</td>\n",
       "      <td>704</td>\n",
       "      <td>704</td>\n",
       "      <td>1.000000</td>\n",
       "    </tr>\n",
       "    <tr>\n",
       "      <th>2261</th>\n",
       "      <td>3</td>\n",
       "      <td>2024-05-15</td>\n",
       "      <td>1</td>\n",
       "      <td>54</td>\n",
       "      <td>704</td>\n",
       "      <td>0.076705</td>\n",
       "    </tr>\n",
       "    <tr>\n",
       "      <th>2262</th>\n",
       "      <td>3</td>\n",
       "      <td>2024-05-16</td>\n",
       "      <td>0</td>\n",
       "      <td>719</td>\n",
       "      <td>719</td>\n",
       "      <td>1.000000</td>\n",
       "    </tr>\n",
       "  </tbody>\n",
       "</table>\n",
       "<p>2263 rows × 6 columns</p>\n",
       "</div>"
      ],
      "text/plain": [
       "      variant cohort_date  days_since_cohort  userid  cohort_size  \\\n",
       "0           1  2024-04-05                  0     452          452   \n",
       "1           1  2024-04-05                  1      87          452   \n",
       "2           1  2024-04-05                  2      70          452   \n",
       "3           1  2024-04-05                  3      42          452   \n",
       "4           1  2024-04-05                  4      56          452   \n",
       "...       ...         ...                ...     ...          ...   \n",
       "2258        3  2024-05-14                  1      50          796   \n",
       "2259        3  2024-05-14                  2      32          796   \n",
       "2260        3  2024-05-15                  0     704          704   \n",
       "2261        3  2024-05-15                  1      54          704   \n",
       "2262        3  2024-05-16                  0     719          719   \n",
       "\n",
       "      retention_rate  \n",
       "0           1.000000  \n",
       "1           0.192478  \n",
       "2           0.154867  \n",
       "3           0.092920  \n",
       "4           0.123894  \n",
       "...              ...  \n",
       "2258        0.062814  \n",
       "2259        0.040201  \n",
       "2260        1.000000  \n",
       "2261        0.076705  \n",
       "2262        1.000000  \n",
       "\n",
       "[2263 rows x 6 columns]"
      ]
     },
     "execution_count": 145,
     "metadata": {},
     "output_type": "execute_result"
    }
   ],
   "source": [
    "variant_data['retention_rate'] = variant_data['userid'] / variant_data['cohort_size']\n",
    "variant_data"
   ]
  },
  {
   "cell_type": "code",
   "execution_count": 152,
   "id": "e43fac65",
   "metadata": {},
   "outputs": [],
   "source": [
    "retention_rates = {\n",
    "    'var_1': variant_data[variant_data['variant'] == 1]['retention_rate'].values,\n",
    "    'var_2': variant_data[variant_data['variant'] == 2]['retention_rate'].values,\n",
    "    'var_3': variant_data[variant_data['variant'] == 3]['retention_rate'].values,\n",
    "}"
   ]
  },
  {
   "cell_type": "code",
   "execution_count": 153,
   "id": "ed31d3fb",
   "metadata": {},
   "outputs": [],
   "source": [
    "# 1 vs 2\n",
    "t_stat_rr_12, p_value_rr_12 = stats.ttest_ind(retention_rates['var_1'], retention_rates['var_2'], equal_var=False)\n",
    "# 1 vs 3\n",
    "t_stat_rr_13, p_value_rr_13 = stats.ttest_ind(retention_rates['var_1'], retention_rates['var_3'], equal_var=False)\n",
    "# 2 vs 3\n",
    "t_stat_rr_23, p_value_rr_23 = stats.ttest_ind(retention_rates['var_2'], retention_rates['var_3'], equal_var=False)"
   ]
  },
  {
   "cell_type": "code",
   "execution_count": 154,
   "id": "cb37cc08",
   "metadata": {},
   "outputs": [
    {
     "name": "stdout",
     "output_type": "stream",
     "text": [
      "False\n"
     ]
    },
    {
     "data": {
      "text/plain": [
       "0.8701016797080405"
      ]
     },
     "execution_count": 154,
     "metadata": {},
     "output_type": "execute_result"
    }
   ],
   "source": [
    "sig_rr_12 = p_value_rr_12 < adjusted_alpha\n",
    "print(sig_rr_12)\n",
    "p_value_rr_12"
   ]
  },
  {
   "cell_type": "code",
   "execution_count": 155,
   "id": "9318d2e2",
   "metadata": {},
   "outputs": [
    {
     "name": "stdout",
     "output_type": "stream",
     "text": [
      "False\n"
     ]
    },
    {
     "data": {
      "text/plain": [
       "0.8777954806604905"
      ]
     },
     "execution_count": 155,
     "metadata": {},
     "output_type": "execute_result"
    }
   ],
   "source": [
    "sig_rr_13 = p_value_rr_13 < adjusted_alpha\n",
    "print(sig_rr_13)\n",
    "p_value_rr_13"
   ]
  },
  {
   "cell_type": "code",
   "execution_count": 156,
   "id": "eb576b5c",
   "metadata": {},
   "outputs": [
    {
     "name": "stdout",
     "output_type": "stream",
     "text": [
      "False\n"
     ]
    },
    {
     "data": {
      "text/plain": [
       "0.7489040861181299"
      ]
     },
     "execution_count": 156,
     "metadata": {},
     "output_type": "execute_result"
    }
   ],
   "source": [
    "sig_rr_23 = p_value_rr_23 < adjusted_alpha\n",
    "print(sig_rr_23)\n",
    "p_value_rr_23"
   ]
  },
  {
   "cell_type": "code",
   "execution_count": 166,
   "id": "2e2bb156",
   "metadata": {},
   "outputs": [
    {
     "data": {
      "text/plain": [
       "variant\n",
       "1    0.092206\n",
       "2    0.090341\n",
       "3    0.093985\n",
       "Name: retention_rate, dtype: float64"
      ]
     },
     "execution_count": 166,
     "metadata": {},
     "output_type": "execute_result"
    }
   ],
   "source": [
    "variant_data.groupby('variant')['retention_rate'].mean()"
   ]
  },
  {
   "cell_type": "markdown",
   "id": "871a16b0",
   "metadata": {},
   "source": [
    "There does not seem to be any statistical difference between the retention rates across the three variants. Based on retention rate alone, the variant 3 seems to win over the other two variations."
   ]
  },
  {
   "cell_type": "markdown",
   "id": "3a600fdf",
   "metadata": {},
   "source": [
    "### Conclusion"
   ]
  },
  {
   "cell_type": "markdown",
   "id": "74a40264",
   "metadata": {},
   "source": [
    "Based on the data provided and the question statements, all 3 variants have advantages and disadvantages. Variant 1 performed better than the other two variants in terms of the metric \"Daily Revenue\". Variant 2 peformed better in terms of AOV. Variant 3 had the best number of purchases and retention rates. Both variants 1 & 3 performed well overall except in terms of single purchase value (AOV)."
   ]
  },
  {
   "cell_type": "code",
   "execution_count": null,
   "id": "bb839896",
   "metadata": {},
   "outputs": [],
   "source": []
  }
 ],
 "metadata": {
  "kernelspec": {
   "display_name": "Python 3 (ipykernel)",
   "language": "python",
   "name": "python3"
  },
  "language_info": {
   "codemirror_mode": {
    "name": "ipython",
    "version": 3
   },
   "file_extension": ".py",
   "mimetype": "text/x-python",
   "name": "python",
   "nbconvert_exporter": "python",
   "pygments_lexer": "ipython3",
   "version": "3.9.7"
  }
 },
 "nbformat": 4,
 "nbformat_minor": 5
}
